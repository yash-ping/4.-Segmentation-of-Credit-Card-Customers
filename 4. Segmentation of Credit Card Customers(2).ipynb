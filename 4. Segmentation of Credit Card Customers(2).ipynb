{
 "cells": [
  {
   "cell_type": "markdown",
   "metadata": {},
   "source": [
    "### Import Library"
   ]
  },
  {
   "cell_type": "code",
   "execution_count": 1,
   "metadata": {},
   "outputs": [],
   "source": [
    "import pandas as pd\n",
    "import numpy as np\n",
    "import matplotlib.pyplot as plt\n",
    "import seaborn as sns\n",
    "\n",
    "#!pip install pandas_profiling \n",
    "import pandas_profiling \n",
    "import scipy.stats as stats\n",
    "import statsmodels as sm\n",
    "%matplotlib inline\n",
    "\n",
    "import sklearn as sk\n",
    "\n",
    "plt.rcParams['figure.figsize'] = 6, 4\n",
    "plt.rcParams['axes.grid'] = True\n",
    "from sklearn.metrics import calinski_harabasz_score,silhouette_score\n",
    "\n",
    "\n",
    "from matplotlib.backends.backend_pdf import PdfPages\n",
    "\n",
    "import statsmodels.formula.api as smf\n",
    "\n",
    "from sklearn.model_selection import train_test_split\n",
    "\n",
    "from sklearn.linear_model import LinearRegression\n",
    "from sklearn.metrics import mean_absolute_error, mean_squared_error, r2_score\n",
    "\n",
    "from sklearn.cluster import KMeans\n",
    "\n",
    "# center and scale the data\n",
    "from sklearn.preprocessing import StandardScaler\n",
    "\n",
    "from sklearn.decomposition import PCA\n",
    "from sklearn.decomposition import FactorAnalysis"
   ]
  },
  {
   "cell_type": "markdown",
   "metadata": {},
   "source": [
    "### Load data"
   ]
  },
  {
   "cell_type": "code",
   "execution_count": 2,
   "metadata": {},
   "outputs": [],
   "source": [
    "# reading data into dataframe\n",
    "credit= pd.read_csv('C:/Users/Yash/Desktop/STATS/CASE STUDY FOR ML/4. Segmentation of Credit Card Customers/CC_GENERAL.csv')"
   ]
  },
  {
   "cell_type": "markdown",
   "metadata": {},
   "source": [
    "### Information about data set"
   ]
  },
  {
   "cell_type": "code",
   "execution_count": 3,
   "metadata": {},
   "outputs": [
    {
     "data": {
      "text/html": [
       "<div>\n",
       "<style scoped>\n",
       "    .dataframe tbody tr th:only-of-type {\n",
       "        vertical-align: middle;\n",
       "    }\n",
       "\n",
       "    .dataframe tbody tr th {\n",
       "        vertical-align: top;\n",
       "    }\n",
       "\n",
       "    .dataframe thead th {\n",
       "        text-align: right;\n",
       "    }\n",
       "</style>\n",
       "<table border=\"1\" class=\"dataframe\">\n",
       "  <thead>\n",
       "    <tr style=\"text-align: right;\">\n",
       "      <th></th>\n",
       "      <th>CUST_ID</th>\n",
       "      <th>BALANCE</th>\n",
       "      <th>BALANCE_FREQUENCY</th>\n",
       "      <th>PURCHASES</th>\n",
       "      <th>ONEOFF_PURCHASES</th>\n",
       "      <th>INSTALLMENTS_PURCHASES</th>\n",
       "      <th>CASH_ADVANCE</th>\n",
       "      <th>PURCHASES_FREQUENCY</th>\n",
       "      <th>ONEOFF_PURCHASES_FREQUENCY</th>\n",
       "      <th>PURCHASES_INSTALLMENTS_FREQUENCY</th>\n",
       "      <th>CASH_ADVANCE_FREQUENCY</th>\n",
       "      <th>CASH_ADVANCE_TRX</th>\n",
       "      <th>PURCHASES_TRX</th>\n",
       "      <th>CREDIT_LIMIT</th>\n",
       "      <th>PAYMENTS</th>\n",
       "      <th>MINIMUM_PAYMENTS</th>\n",
       "      <th>PRC_FULL_PAYMENT</th>\n",
       "      <th>TENURE</th>\n",
       "    </tr>\n",
       "  </thead>\n",
       "  <tbody>\n",
       "    <tr>\n",
       "      <th>0</th>\n",
       "      <td>C10001</td>\n",
       "      <td>40.900749</td>\n",
       "      <td>0.818182</td>\n",
       "      <td>95.40</td>\n",
       "      <td>0.00</td>\n",
       "      <td>95.4</td>\n",
       "      <td>0.000000</td>\n",
       "      <td>0.166667</td>\n",
       "      <td>0.000000</td>\n",
       "      <td>0.083333</td>\n",
       "      <td>0.000000</td>\n",
       "      <td>0</td>\n",
       "      <td>2</td>\n",
       "      <td>1000.0</td>\n",
       "      <td>201.802084</td>\n",
       "      <td>139.509787</td>\n",
       "      <td>0.000000</td>\n",
       "      <td>12</td>\n",
       "    </tr>\n",
       "    <tr>\n",
       "      <th>1</th>\n",
       "      <td>C10002</td>\n",
       "      <td>3202.467416</td>\n",
       "      <td>0.909091</td>\n",
       "      <td>0.00</td>\n",
       "      <td>0.00</td>\n",
       "      <td>0.0</td>\n",
       "      <td>6442.945483</td>\n",
       "      <td>0.000000</td>\n",
       "      <td>0.000000</td>\n",
       "      <td>0.000000</td>\n",
       "      <td>0.250000</td>\n",
       "      <td>4</td>\n",
       "      <td>0</td>\n",
       "      <td>7000.0</td>\n",
       "      <td>4103.032597</td>\n",
       "      <td>1072.340217</td>\n",
       "      <td>0.222222</td>\n",
       "      <td>12</td>\n",
       "    </tr>\n",
       "    <tr>\n",
       "      <th>2</th>\n",
       "      <td>C10003</td>\n",
       "      <td>2495.148862</td>\n",
       "      <td>1.000000</td>\n",
       "      <td>773.17</td>\n",
       "      <td>773.17</td>\n",
       "      <td>0.0</td>\n",
       "      <td>0.000000</td>\n",
       "      <td>1.000000</td>\n",
       "      <td>1.000000</td>\n",
       "      <td>0.000000</td>\n",
       "      <td>0.000000</td>\n",
       "      <td>0</td>\n",
       "      <td>12</td>\n",
       "      <td>7500.0</td>\n",
       "      <td>622.066742</td>\n",
       "      <td>627.284787</td>\n",
       "      <td>0.000000</td>\n",
       "      <td>12</td>\n",
       "    </tr>\n",
       "    <tr>\n",
       "      <th>3</th>\n",
       "      <td>C10004</td>\n",
       "      <td>1666.670542</td>\n",
       "      <td>0.636364</td>\n",
       "      <td>1499.00</td>\n",
       "      <td>1499.00</td>\n",
       "      <td>0.0</td>\n",
       "      <td>205.788017</td>\n",
       "      <td>0.083333</td>\n",
       "      <td>0.083333</td>\n",
       "      <td>0.000000</td>\n",
       "      <td>0.083333</td>\n",
       "      <td>1</td>\n",
       "      <td>1</td>\n",
       "      <td>7500.0</td>\n",
       "      <td>0.000000</td>\n",
       "      <td>NaN</td>\n",
       "      <td>0.000000</td>\n",
       "      <td>12</td>\n",
       "    </tr>\n",
       "    <tr>\n",
       "      <th>4</th>\n",
       "      <td>C10005</td>\n",
       "      <td>817.714335</td>\n",
       "      <td>1.000000</td>\n",
       "      <td>16.00</td>\n",
       "      <td>16.00</td>\n",
       "      <td>0.0</td>\n",
       "      <td>0.000000</td>\n",
       "      <td>0.083333</td>\n",
       "      <td>0.083333</td>\n",
       "      <td>0.000000</td>\n",
       "      <td>0.000000</td>\n",
       "      <td>0</td>\n",
       "      <td>1</td>\n",
       "      <td>1200.0</td>\n",
       "      <td>678.334763</td>\n",
       "      <td>244.791237</td>\n",
       "      <td>0.000000</td>\n",
       "      <td>12</td>\n",
       "    </tr>\n",
       "  </tbody>\n",
       "</table>\n",
       "</div>"
      ],
      "text/plain": [
       "  CUST_ID      BALANCE  BALANCE_FREQUENCY  PURCHASES  ONEOFF_PURCHASES  \\\n",
       "0  C10001    40.900749           0.818182      95.40              0.00   \n",
       "1  C10002  3202.467416           0.909091       0.00              0.00   \n",
       "2  C10003  2495.148862           1.000000     773.17            773.17   \n",
       "3  C10004  1666.670542           0.636364    1499.00           1499.00   \n",
       "4  C10005   817.714335           1.000000      16.00             16.00   \n",
       "\n",
       "   INSTALLMENTS_PURCHASES  CASH_ADVANCE  PURCHASES_FREQUENCY  \\\n",
       "0                    95.4      0.000000             0.166667   \n",
       "1                     0.0   6442.945483             0.000000   \n",
       "2                     0.0      0.000000             1.000000   \n",
       "3                     0.0    205.788017             0.083333   \n",
       "4                     0.0      0.000000             0.083333   \n",
       "\n",
       "   ONEOFF_PURCHASES_FREQUENCY  PURCHASES_INSTALLMENTS_FREQUENCY  \\\n",
       "0                    0.000000                          0.083333   \n",
       "1                    0.000000                          0.000000   \n",
       "2                    1.000000                          0.000000   \n",
       "3                    0.083333                          0.000000   \n",
       "4                    0.083333                          0.000000   \n",
       "\n",
       "   CASH_ADVANCE_FREQUENCY  CASH_ADVANCE_TRX  PURCHASES_TRX  CREDIT_LIMIT  \\\n",
       "0                0.000000                 0              2        1000.0   \n",
       "1                0.250000                 4              0        7000.0   \n",
       "2                0.000000                 0             12        7500.0   \n",
       "3                0.083333                 1              1        7500.0   \n",
       "4                0.000000                 0              1        1200.0   \n",
       "\n",
       "      PAYMENTS  MINIMUM_PAYMENTS  PRC_FULL_PAYMENT  TENURE  \n",
       "0   201.802084        139.509787          0.000000      12  \n",
       "1  4103.032597       1072.340217          0.222222      12  \n",
       "2   622.066742        627.284787          0.000000      12  \n",
       "3     0.000000               NaN          0.000000      12  \n",
       "4   678.334763        244.791237          0.000000      12  "
      ]
     },
     "execution_count": 3,
     "metadata": {},
     "output_type": "execute_result"
    }
   ],
   "source": [
    "credit.head()"
   ]
  },
  {
   "cell_type": "code",
   "execution_count": 4,
   "metadata": {},
   "outputs": [
    {
     "name": "stdout",
     "output_type": "stream",
     "text": [
      "<class 'pandas.core.frame.DataFrame'>\n",
      "RangeIndex: 8950 entries, 0 to 8949\n",
      "Data columns (total 18 columns):\n",
      " #   Column                            Non-Null Count  Dtype  \n",
      "---  ------                            --------------  -----  \n",
      " 0   CUST_ID                           8950 non-null   object \n",
      " 1   BALANCE                           8950 non-null   float64\n",
      " 2   BALANCE_FREQUENCY                 8950 non-null   float64\n",
      " 3   PURCHASES                         8950 non-null   float64\n",
      " 4   ONEOFF_PURCHASES                  8950 non-null   float64\n",
      " 5   INSTALLMENTS_PURCHASES            8950 non-null   float64\n",
      " 6   CASH_ADVANCE                      8950 non-null   float64\n",
      " 7   PURCHASES_FREQUENCY               8950 non-null   float64\n",
      " 8   ONEOFF_PURCHASES_FREQUENCY        8950 non-null   float64\n",
      " 9   PURCHASES_INSTALLMENTS_FREQUENCY  8950 non-null   float64\n",
      " 10  CASH_ADVANCE_FREQUENCY            8950 non-null   float64\n",
      " 11  CASH_ADVANCE_TRX                  8950 non-null   int64  \n",
      " 12  PURCHASES_TRX                     8950 non-null   int64  \n",
      " 13  CREDIT_LIMIT                      8949 non-null   float64\n",
      " 14  PAYMENTS                          8950 non-null   float64\n",
      " 15  MINIMUM_PAYMENTS                  8637 non-null   float64\n",
      " 16  PRC_FULL_PAYMENT                  8950 non-null   float64\n",
      " 17  TENURE                            8950 non-null   int64  \n",
      "dtypes: float64(14), int64(3), object(1)\n",
      "memory usage: 1.2+ MB\n"
     ]
    }
   ],
   "source": [
    "credit.info()"
   ]
  },
  {
   "cell_type": "code",
   "execution_count": 5,
   "metadata": {},
   "outputs": [
    {
     "data": {
      "text/plain": [
       "CUST_ID                               0\n",
       "BALANCE                               0\n",
       "BALANCE_FREQUENCY                     0\n",
       "PURCHASES                             0\n",
       "ONEOFF_PURCHASES                      0\n",
       "INSTALLMENTS_PURCHASES                0\n",
       "CASH_ADVANCE                          0\n",
       "PURCHASES_FREQUENCY                   0\n",
       "ONEOFF_PURCHASES_FREQUENCY            0\n",
       "PURCHASES_INSTALLMENTS_FREQUENCY      0\n",
       "CASH_ADVANCE_FREQUENCY                0\n",
       "CASH_ADVANCE_TRX                      0\n",
       "PURCHASES_TRX                         0\n",
       "CREDIT_LIMIT                          1\n",
       "PAYMENTS                              0\n",
       "MINIMUM_PAYMENTS                    313\n",
       "PRC_FULL_PAYMENT                      0\n",
       "TENURE                                0\n",
       "dtype: int64"
      ]
     },
     "execution_count": 5,
     "metadata": {},
     "output_type": "execute_result"
    }
   ],
   "source": [
    "credit.isnull().sum()\n",
    "\n"
   ]
  },
  {
   "cell_type": "code",
   "execution_count": 6,
   "metadata": {},
   "outputs": [
    {
     "data": {
      "text/plain": [
       "CUST_ID                             8950\n",
       "BALANCE                             8871\n",
       "BALANCE_FREQUENCY                     43\n",
       "PURCHASES                           6203\n",
       "ONEOFF_PURCHASES                    4014\n",
       "INSTALLMENTS_PURCHASES              4452\n",
       "CASH_ADVANCE                        4323\n",
       "PURCHASES_FREQUENCY                   47\n",
       "ONEOFF_PURCHASES_FREQUENCY            47\n",
       "PURCHASES_INSTALLMENTS_FREQUENCY      47\n",
       "CASH_ADVANCE_FREQUENCY                54\n",
       "CASH_ADVANCE_TRX                      65\n",
       "PURCHASES_TRX                        173\n",
       "CREDIT_LIMIT                         205\n",
       "PAYMENTS                            8711\n",
       "MINIMUM_PAYMENTS                    8636\n",
       "PRC_FULL_PAYMENT                      47\n",
       "TENURE                                 7\n",
       "dtype: int64"
      ]
     },
     "execution_count": 6,
     "metadata": {},
     "output_type": "execute_result"
    }
   ],
   "source": [
    "credit.nunique()"
   ]
  },
  {
   "cell_type": "code",
   "execution_count": 7,
   "metadata": {},
   "outputs": [
    {
     "data": {
      "text/plain": [
       "(8950, 18)"
      ]
     },
     "execution_count": 7,
     "metadata": {},
     "output_type": "execute_result"
    }
   ],
   "source": [
    "credit.shape"
   ]
  },
  {
   "cell_type": "code",
   "execution_count": 8,
   "metadata": {},
   "outputs": [
    {
     "data": {
      "text/html": [
       "<div>\n",
       "<style scoped>\n",
       "    .dataframe tbody tr th:only-of-type {\n",
       "        vertical-align: middle;\n",
       "    }\n",
       "\n",
       "    .dataframe tbody tr th {\n",
       "        vertical-align: top;\n",
       "    }\n",
       "\n",
       "    .dataframe thead th {\n",
       "        text-align: right;\n",
       "    }\n",
       "</style>\n",
       "<table border=\"1\" class=\"dataframe\">\n",
       "  <thead>\n",
       "    <tr style=\"text-align: right;\">\n",
       "      <th></th>\n",
       "      <th>BALANCE</th>\n",
       "      <th>BALANCE_FREQUENCY</th>\n",
       "      <th>PURCHASES</th>\n",
       "      <th>ONEOFF_PURCHASES</th>\n",
       "      <th>INSTALLMENTS_PURCHASES</th>\n",
       "      <th>CASH_ADVANCE</th>\n",
       "      <th>PURCHASES_FREQUENCY</th>\n",
       "      <th>ONEOFF_PURCHASES_FREQUENCY</th>\n",
       "      <th>PURCHASES_INSTALLMENTS_FREQUENCY</th>\n",
       "      <th>CASH_ADVANCE_FREQUENCY</th>\n",
       "      <th>CASH_ADVANCE_TRX</th>\n",
       "      <th>PURCHASES_TRX</th>\n",
       "      <th>CREDIT_LIMIT</th>\n",
       "      <th>PAYMENTS</th>\n",
       "      <th>MINIMUM_PAYMENTS</th>\n",
       "      <th>PRC_FULL_PAYMENT</th>\n",
       "      <th>TENURE</th>\n",
       "    </tr>\n",
       "  </thead>\n",
       "  <tbody>\n",
       "    <tr>\n",
       "      <th>count</th>\n",
       "      <td>8950.000000</td>\n",
       "      <td>8950.000000</td>\n",
       "      <td>8950.000000</td>\n",
       "      <td>8950.000000</td>\n",
       "      <td>8950.000000</td>\n",
       "      <td>8950.000000</td>\n",
       "      <td>8950.000000</td>\n",
       "      <td>8950.000000</td>\n",
       "      <td>8950.000000</td>\n",
       "      <td>8950.000000</td>\n",
       "      <td>8950.000000</td>\n",
       "      <td>8950.000000</td>\n",
       "      <td>8949.000000</td>\n",
       "      <td>8950.000000</td>\n",
       "      <td>8637.000000</td>\n",
       "      <td>8950.000000</td>\n",
       "      <td>8950.000000</td>\n",
       "    </tr>\n",
       "    <tr>\n",
       "      <th>mean</th>\n",
       "      <td>1564.474828</td>\n",
       "      <td>0.877271</td>\n",
       "      <td>1003.204834</td>\n",
       "      <td>592.437371</td>\n",
       "      <td>411.067645</td>\n",
       "      <td>978.871112</td>\n",
       "      <td>0.490351</td>\n",
       "      <td>0.202458</td>\n",
       "      <td>0.364437</td>\n",
       "      <td>0.135144</td>\n",
       "      <td>3.248827</td>\n",
       "      <td>14.709832</td>\n",
       "      <td>4494.449450</td>\n",
       "      <td>1733.143852</td>\n",
       "      <td>864.206542</td>\n",
       "      <td>0.153715</td>\n",
       "      <td>11.517318</td>\n",
       "    </tr>\n",
       "    <tr>\n",
       "      <th>std</th>\n",
       "      <td>2081.531879</td>\n",
       "      <td>0.236904</td>\n",
       "      <td>2136.634782</td>\n",
       "      <td>1659.887917</td>\n",
       "      <td>904.338115</td>\n",
       "      <td>2097.163877</td>\n",
       "      <td>0.401371</td>\n",
       "      <td>0.298336</td>\n",
       "      <td>0.397448</td>\n",
       "      <td>0.200121</td>\n",
       "      <td>6.824647</td>\n",
       "      <td>24.857649</td>\n",
       "      <td>3638.815725</td>\n",
       "      <td>2895.063757</td>\n",
       "      <td>2372.446607</td>\n",
       "      <td>0.292499</td>\n",
       "      <td>1.338331</td>\n",
       "    </tr>\n",
       "    <tr>\n",
       "      <th>min</th>\n",
       "      <td>0.000000</td>\n",
       "      <td>0.000000</td>\n",
       "      <td>0.000000</td>\n",
       "      <td>0.000000</td>\n",
       "      <td>0.000000</td>\n",
       "      <td>0.000000</td>\n",
       "      <td>0.000000</td>\n",
       "      <td>0.000000</td>\n",
       "      <td>0.000000</td>\n",
       "      <td>0.000000</td>\n",
       "      <td>0.000000</td>\n",
       "      <td>0.000000</td>\n",
       "      <td>50.000000</td>\n",
       "      <td>0.000000</td>\n",
       "      <td>0.019163</td>\n",
       "      <td>0.000000</td>\n",
       "      <td>6.000000</td>\n",
       "    </tr>\n",
       "    <tr>\n",
       "      <th>25%</th>\n",
       "      <td>128.281915</td>\n",
       "      <td>0.888889</td>\n",
       "      <td>39.635000</td>\n",
       "      <td>0.000000</td>\n",
       "      <td>0.000000</td>\n",
       "      <td>0.000000</td>\n",
       "      <td>0.083333</td>\n",
       "      <td>0.000000</td>\n",
       "      <td>0.000000</td>\n",
       "      <td>0.000000</td>\n",
       "      <td>0.000000</td>\n",
       "      <td>1.000000</td>\n",
       "      <td>1600.000000</td>\n",
       "      <td>383.276166</td>\n",
       "      <td>169.123707</td>\n",
       "      <td>0.000000</td>\n",
       "      <td>12.000000</td>\n",
       "    </tr>\n",
       "    <tr>\n",
       "      <th>50%</th>\n",
       "      <td>873.385231</td>\n",
       "      <td>1.000000</td>\n",
       "      <td>361.280000</td>\n",
       "      <td>38.000000</td>\n",
       "      <td>89.000000</td>\n",
       "      <td>0.000000</td>\n",
       "      <td>0.500000</td>\n",
       "      <td>0.083333</td>\n",
       "      <td>0.166667</td>\n",
       "      <td>0.000000</td>\n",
       "      <td>0.000000</td>\n",
       "      <td>7.000000</td>\n",
       "      <td>3000.000000</td>\n",
       "      <td>856.901546</td>\n",
       "      <td>312.343947</td>\n",
       "      <td>0.000000</td>\n",
       "      <td>12.000000</td>\n",
       "    </tr>\n",
       "    <tr>\n",
       "      <th>75%</th>\n",
       "      <td>2054.140036</td>\n",
       "      <td>1.000000</td>\n",
       "      <td>1110.130000</td>\n",
       "      <td>577.405000</td>\n",
       "      <td>468.637500</td>\n",
       "      <td>1113.821139</td>\n",
       "      <td>0.916667</td>\n",
       "      <td>0.300000</td>\n",
       "      <td>0.750000</td>\n",
       "      <td>0.222222</td>\n",
       "      <td>4.000000</td>\n",
       "      <td>17.000000</td>\n",
       "      <td>6500.000000</td>\n",
       "      <td>1901.134317</td>\n",
       "      <td>825.485459</td>\n",
       "      <td>0.142857</td>\n",
       "      <td>12.000000</td>\n",
       "    </tr>\n",
       "    <tr>\n",
       "      <th>max</th>\n",
       "      <td>19043.138560</td>\n",
       "      <td>1.000000</td>\n",
       "      <td>49039.570000</td>\n",
       "      <td>40761.250000</td>\n",
       "      <td>22500.000000</td>\n",
       "      <td>47137.211760</td>\n",
       "      <td>1.000000</td>\n",
       "      <td>1.000000</td>\n",
       "      <td>1.000000</td>\n",
       "      <td>1.500000</td>\n",
       "      <td>123.000000</td>\n",
       "      <td>358.000000</td>\n",
       "      <td>30000.000000</td>\n",
       "      <td>50721.483360</td>\n",
       "      <td>76406.207520</td>\n",
       "      <td>1.000000</td>\n",
       "      <td>12.000000</td>\n",
       "    </tr>\n",
       "  </tbody>\n",
       "</table>\n",
       "</div>"
      ],
      "text/plain": [
       "            BALANCE  BALANCE_FREQUENCY     PURCHASES  ONEOFF_PURCHASES  \\\n",
       "count   8950.000000        8950.000000   8950.000000       8950.000000   \n",
       "mean    1564.474828           0.877271   1003.204834        592.437371   \n",
       "std     2081.531879           0.236904   2136.634782       1659.887917   \n",
       "min        0.000000           0.000000      0.000000          0.000000   \n",
       "25%      128.281915           0.888889     39.635000          0.000000   \n",
       "50%      873.385231           1.000000    361.280000         38.000000   \n",
       "75%     2054.140036           1.000000   1110.130000        577.405000   \n",
       "max    19043.138560           1.000000  49039.570000      40761.250000   \n",
       "\n",
       "       INSTALLMENTS_PURCHASES  CASH_ADVANCE  PURCHASES_FREQUENCY  \\\n",
       "count             8950.000000   8950.000000          8950.000000   \n",
       "mean               411.067645    978.871112             0.490351   \n",
       "std                904.338115   2097.163877             0.401371   \n",
       "min                  0.000000      0.000000             0.000000   \n",
       "25%                  0.000000      0.000000             0.083333   \n",
       "50%                 89.000000      0.000000             0.500000   \n",
       "75%                468.637500   1113.821139             0.916667   \n",
       "max              22500.000000  47137.211760             1.000000   \n",
       "\n",
       "       ONEOFF_PURCHASES_FREQUENCY  PURCHASES_INSTALLMENTS_FREQUENCY  \\\n",
       "count                 8950.000000                       8950.000000   \n",
       "mean                     0.202458                          0.364437   \n",
       "std                      0.298336                          0.397448   \n",
       "min                      0.000000                          0.000000   \n",
       "25%                      0.000000                          0.000000   \n",
       "50%                      0.083333                          0.166667   \n",
       "75%                      0.300000                          0.750000   \n",
       "max                      1.000000                          1.000000   \n",
       "\n",
       "       CASH_ADVANCE_FREQUENCY  CASH_ADVANCE_TRX  PURCHASES_TRX  CREDIT_LIMIT  \\\n",
       "count             8950.000000       8950.000000    8950.000000   8949.000000   \n",
       "mean                 0.135144          3.248827      14.709832   4494.449450   \n",
       "std                  0.200121          6.824647      24.857649   3638.815725   \n",
       "min                  0.000000          0.000000       0.000000     50.000000   \n",
       "25%                  0.000000          0.000000       1.000000   1600.000000   \n",
       "50%                  0.000000          0.000000       7.000000   3000.000000   \n",
       "75%                  0.222222          4.000000      17.000000   6500.000000   \n",
       "max                  1.500000        123.000000     358.000000  30000.000000   \n",
       "\n",
       "           PAYMENTS  MINIMUM_PAYMENTS  PRC_FULL_PAYMENT       TENURE  \n",
       "count   8950.000000       8637.000000       8950.000000  8950.000000  \n",
       "mean    1733.143852        864.206542          0.153715    11.517318  \n",
       "std     2895.063757       2372.446607          0.292499     1.338331  \n",
       "min        0.000000          0.019163          0.000000     6.000000  \n",
       "25%      383.276166        169.123707          0.000000    12.000000  \n",
       "50%      856.901546        312.343947          0.000000    12.000000  \n",
       "75%     1901.134317        825.485459          0.142857    12.000000  \n",
       "max    50721.483360      76406.207520          1.000000    12.000000  "
      ]
     },
     "execution_count": 8,
     "metadata": {},
     "output_type": "execute_result"
    }
   ],
   "source": [
    "# Intital descriptive analysis of data.\n",
    "credit.describe()"
   ]
  },
  {
   "cell_type": "code",
   "execution_count": 9,
   "metadata": {},
   "outputs": [],
   "source": [
    "#!pip install pandas-profiling"
   ]
  },
  {
   "cell_type": "code",
   "execution_count": 10,
   "metadata": {},
   "outputs": [],
   "source": [
    "##pandas_profiling.ProfileReport(train)"
   ]
  },
  {
   "cell_type": "code",
   "execution_count": 11,
   "metadata": {
    "scrolled": true
   },
   "outputs": [],
   "source": [
    "#import sweetviz"
   ]
  },
  {
   "cell_type": "code",
   "execution_count": 12,
   "metadata": {
    "scrolled": true
   },
   "outputs": [],
   "source": [
    "#my_report = sweetviz.analyze([train, \"Train\"],target_feat='attack_class')"
   ]
  },
  {
   "cell_type": "code",
   "execution_count": 13,
   "metadata": {},
   "outputs": [],
   "source": [
    "#my_report.show_html('Report.html')"
   ]
  },
  {
   "cell_type": "code",
   "execution_count": null,
   "metadata": {},
   "outputs": [],
   "source": []
  },
  {
   "cell_type": "markdown",
   "metadata": {},
   "source": [
    "---\n",
    "\n",
    "### a) Missing Value Treatment\n",
    "       - Since there are missing values in the data so we are imputing them with median.\n",
    "\n",
    "---"
   ]
  },
  {
   "cell_type": "code",
   "execution_count": 14,
   "metadata": {},
   "outputs": [
    {
     "data": {
      "text/plain": [
       "CUST_ID                             False\n",
       "BALANCE                             False\n",
       "BALANCE_FREQUENCY                   False\n",
       "PURCHASES                           False\n",
       "ONEOFF_PURCHASES                    False\n",
       "INSTALLMENTS_PURCHASES              False\n",
       "CASH_ADVANCE                        False\n",
       "PURCHASES_FREQUENCY                 False\n",
       "ONEOFF_PURCHASES_FREQUENCY          False\n",
       "PURCHASES_INSTALLMENTS_FREQUENCY    False\n",
       "CASH_ADVANCE_FREQUENCY              False\n",
       "CASH_ADVANCE_TRX                    False\n",
       "PURCHASES_TRX                       False\n",
       "CREDIT_LIMIT                         True\n",
       "PAYMENTS                            False\n",
       "MINIMUM_PAYMENTS                     True\n",
       "PRC_FULL_PAYMENT                    False\n",
       "TENURE                              False\n",
       "dtype: bool"
      ]
     },
     "execution_count": 14,
     "metadata": {},
     "output_type": "execute_result"
    }
   ],
   "source": [
    "credit.isnull().any()"
   ]
  },
  {
   "cell_type": "code",
   "execution_count": 15,
   "metadata": {},
   "outputs": [
    {
     "data": {
      "text/plain": [
       "<matplotlib.axes._subplots.AxesSubplot at 0x177487f0f08>"
      ]
     },
     "execution_count": 15,
     "metadata": {},
     "output_type": "execute_result"
    },
    {
     "data": {
      "image/png": "[encoded data removed]",
      "text/plain": [
       "<Figure size 1152x648 with 2 Axes>"
      ]
     },
     "metadata": {
      "needs_background": "light"
     },
     "output_type": "display_data"
    }
   ],
   "source": [
    "# Show the null values using heatmap\n",
    "plt.figure(figsize=(16,9))\n",
    "sns.heatmap(credit.isnull())"
   ]
  },
  {
   "cell_type": "code",
   "execution_count": 16,
   "metadata": {},
   "outputs": [],
   "source": [
    "\n",
    "credit['CREDIT_LIMIT'].fillna(credit['CREDIT_LIMIT'].median(),inplace=True)\n",
    "credit['CREDIT_LIMIT'].count()\n",
    "\n",
    "\n",
    "credit['MINIMUM_PAYMENTS'].median()\n",
    "credit['MINIMUM_PAYMENTS'].fillna(credit['MINIMUM_PAYMENTS'].median(),inplace=True)\n"
   ]
  },
  {
   "cell_type": "code",
   "execution_count": 17,
   "metadata": {},
   "outputs": [
    {
     "data": {
      "text/plain": [
       "CUST_ID                             False\n",
       "BALANCE                             False\n",
       "BALANCE_FREQUENCY                   False\n",
       "PURCHASES                           False\n",
       "ONEOFF_PURCHASES                    False\n",
       "INSTALLMENTS_PURCHASES              False\n",
       "CASH_ADVANCE                        False\n",
       "PURCHASES_FREQUENCY                 False\n",
       "ONEOFF_PURCHASES_FREQUENCY          False\n",
       "PURCHASES_INSTALLMENTS_FREQUENCY    False\n",
       "CASH_ADVANCE_FREQUENCY              False\n",
       "CASH_ADVANCE_TRX                    False\n",
       "PURCHASES_TRX                       False\n",
       "CREDIT_LIMIT                        False\n",
       "PAYMENTS                            False\n",
       "MINIMUM_PAYMENTS                    False\n",
       "PRC_FULL_PAYMENT                    False\n",
       "TENURE                              False\n",
       "dtype: bool"
      ]
     },
     "execution_count": 17,
     "metadata": {},
     "output_type": "execute_result"
    }
   ],
   "source": [
    "# Now again check the missing values.\n",
    "\n",
    "credit.isnull().any()"
   ]
  },
  {
   "cell_type": "code",
   "execution_count": 18,
   "metadata": {},
   "outputs": [
    {
     "data": {
      "text/plain": [
       "<matplotlib.axes._subplots.AxesSubplot at 0x177484b0c48>"
      ]
     },
     "execution_count": 18,
     "metadata": {},
     "output_type": "execute_result"
    },
    {
     "data": {
      "image/png": "[encoded data removed]",
      "text/plain": [
       "<Figure size 1152x648 with 2 Axes>"
      ]
     },
     "metadata": {
      "needs_background": "light"
     },
     "output_type": "display_data"
    }
   ],
   "source": [
    "# Show the null values using heatmap\n",
    "plt.figure(figsize=(16,9))\n",
    "sns.heatmap(credit.isnull())"
   ]
  },
  {
   "cell_type": "code",
   "execution_count": 19,
   "metadata": {},
   "outputs": [],
   "source": [
    "def continuous_var_summary(x):\n",
    "    return pd.Series([x.count(), x.isnull().sum(), x.sum(), x.mean(), x.median(),  \n",
    "                      x.std(), x.var(), x.min(), x.quantile(0.01), x.quantile(0.05),\n",
    "                          x.quantile(0.10),x.quantile(0.25),x.quantile(0.50),x.quantile(0.75), \n",
    "                              x.quantile(0.90),x.quantile(0.95), x.quantile(0.99),x.max()], \n",
    "                  index = ['N', 'NMISS', 'SUM', 'MEAN','MEDIAN', 'STD', 'VAR', 'MIN', 'P1', \n",
    "                               'P5' ,'P10' ,'P25' ,'P50' ,'P75' ,'P90' ,'P95' ,'P99' ,'MAX'])\n",
    "\n",
    "# Create Data audit Report for categorical variables\n",
    "def categorical_var_summary(x):\n",
    "    Mode = x.value_counts().sort_values(ascending = False)[0:1].reset_index()\n",
    "    return pd.Series([x.count(), x.isnull().sum(), Mode.iloc[0, 0], Mode.iloc[0, 1], \n",
    "                          round(Mode.iloc[0, 1] * 100/x.count(), 2)], \n",
    "                  index = ['N', 'NMISS', 'MODE', 'FREQ', 'PERCENT'])"
   ]
  },
  {
   "cell_type": "code",
   "execution_count": 20,
   "metadata": {},
   "outputs": [],
   "source": [
    "conti_vars=credit.select_dtypes(['int64','float64','int32','float32'])"
   ]
  },
  {
   "cell_type": "code",
   "execution_count": 21,
   "metadata": {},
   "outputs": [
    {
     "data": {
      "text/plain": [
       "Index(['BALANCE', 'BALANCE_FREQUENCY', 'PURCHASES', 'ONEOFF_PURCHASES',\n",
       "       'INSTALLMENTS_PURCHASES', 'CASH_ADVANCE', 'PURCHASES_FREQUENCY',\n",
       "       'ONEOFF_PURCHASES_FREQUENCY', 'PURCHASES_INSTALLMENTS_FREQUENCY',\n",
       "       'CASH_ADVANCE_FREQUENCY', 'CASH_ADVANCE_TRX', 'PURCHASES_TRX',\n",
       "       'CREDIT_LIMIT', 'PAYMENTS', 'MINIMUM_PAYMENTS', 'PRC_FULL_PAYMENT',\n",
       "       'TENURE'],\n",
       "      dtype='object')"
      ]
     },
     "execution_count": 21,
     "metadata": {},
     "output_type": "execute_result"
    }
   ],
   "source": [
    "conti_vars.columns"
   ]
  },
  {
   "cell_type": "code",
   "execution_count": 22,
   "metadata": {},
   "outputs": [],
   "source": [
    "cat_var = credit.select_dtypes('object')"
   ]
  },
  {
   "cell_type": "code",
   "execution_count": 23,
   "metadata": {},
   "outputs": [
    {
     "data": {
      "text/plain": [
       "Index(['CUST_ID'], dtype='object')"
      ]
     },
     "execution_count": 23,
     "metadata": {},
     "output_type": "execute_result"
    }
   ],
   "source": [
    "cat_var.columns"
   ]
  },
  {
   "cell_type": "code",
   "execution_count": 24,
   "metadata": {},
   "outputs": [
    {
     "data": {
      "text/html": [
       "<div>\n",
       "<style scoped>\n",
       "    .dataframe tbody tr th:only-of-type {\n",
       "        vertical-align: middle;\n",
       "    }\n",
       "\n",
       "    .dataframe tbody tr th {\n",
       "        vertical-align: top;\n",
       "    }\n",
       "\n",
       "    .dataframe thead th {\n",
       "        text-align: right;\n",
       "    }\n",
       "</style>\n",
       "<table border=\"1\" class=\"dataframe\">\n",
       "  <thead>\n",
       "    <tr style=\"text-align: right;\">\n",
       "      <th></th>\n",
       "      <th>N</th>\n",
       "      <th>NMISS</th>\n",
       "      <th>SUM</th>\n",
       "      <th>MEAN</th>\n",
       "      <th>MEDIAN</th>\n",
       "      <th>STD</th>\n",
       "      <th>VAR</th>\n",
       "      <th>MIN</th>\n",
       "      <th>P1</th>\n",
       "      <th>P5</th>\n",
       "      <th>P10</th>\n",
       "      <th>P25</th>\n",
       "      <th>P50</th>\n",
       "      <th>P75</th>\n",
       "      <th>P90</th>\n",
       "      <th>P95</th>\n",
       "      <th>P99</th>\n",
       "      <th>MAX</th>\n",
       "    </tr>\n",
       "  </thead>\n",
       "  <tbody>\n",
       "    <tr>\n",
       "      <th>BALANCE</th>\n",
       "      <td>8950.0</td>\n",
       "      <td>0.0</td>\n",
       "      <td>1.400205e+07</td>\n",
       "      <td>1564.474828</td>\n",
       "      <td>873.385231</td>\n",
       "      <td>2081.531879</td>\n",
       "      <td>4.332775e+06</td>\n",
       "      <td>0.000000</td>\n",
       "      <td>0.065101</td>\n",
       "      <td>8.814518</td>\n",
       "      <td>23.575529</td>\n",
       "      <td>128.281915</td>\n",
       "      <td>873.385231</td>\n",
       "      <td>2054.140036</td>\n",
       "      <td>4338.563657</td>\n",
       "      <td>5909.111808</td>\n",
       "      <td>9338.804814</td>\n",
       "      <td>19043.13856</td>\n",
       "    </tr>\n",
       "    <tr>\n",
       "      <th>BALANCE_FREQUENCY</th>\n",
       "      <td>8950.0</td>\n",
       "      <td>0.0</td>\n",
       "      <td>7.851573e+03</td>\n",
       "      <td>0.877271</td>\n",
       "      <td>1.000000</td>\n",
       "      <td>0.236904</td>\n",
       "      <td>5.612351e-02</td>\n",
       "      <td>0.000000</td>\n",
       "      <td>0.090909</td>\n",
       "      <td>0.272727</td>\n",
       "      <td>0.454545</td>\n",
       "      <td>0.888889</td>\n",
       "      <td>1.000000</td>\n",
       "      <td>1.000000</td>\n",
       "      <td>1.000000</td>\n",
       "      <td>1.000000</td>\n",
       "      <td>1.000000</td>\n",
       "      <td>1.00000</td>\n",
       "    </tr>\n",
       "    <tr>\n",
       "      <th>PURCHASES</th>\n",
       "      <td>8950.0</td>\n",
       "      <td>0.0</td>\n",
       "      <td>8.978683e+06</td>\n",
       "      <td>1003.204834</td>\n",
       "      <td>361.280000</td>\n",
       "      <td>2136.634782</td>\n",
       "      <td>4.565208e+06</td>\n",
       "      <td>0.000000</td>\n",
       "      <td>0.000000</td>\n",
       "      <td>0.000000</td>\n",
       "      <td>0.000000</td>\n",
       "      <td>39.635000</td>\n",
       "      <td>361.280000</td>\n",
       "      <td>1110.130000</td>\n",
       "      <td>2542.624000</td>\n",
       "      <td>3998.619500</td>\n",
       "      <td>8977.290000</td>\n",
       "      <td>49039.57000</td>\n",
       "    </tr>\n",
       "    <tr>\n",
       "      <th>ONEOFF_PURCHASES</th>\n",
       "      <td>8950.0</td>\n",
       "      <td>0.0</td>\n",
       "      <td>5.302314e+06</td>\n",
       "      <td>592.437371</td>\n",
       "      <td>38.000000</td>\n",
       "      <td>1659.887917</td>\n",
       "      <td>2.755228e+06</td>\n",
       "      <td>0.000000</td>\n",
       "      <td>0.000000</td>\n",
       "      <td>0.000000</td>\n",
       "      <td>0.000000</td>\n",
       "      <td>0.000000</td>\n",
       "      <td>38.000000</td>\n",
       "      <td>577.405000</td>\n",
       "      <td>1600.099000</td>\n",
       "      <td>2671.094000</td>\n",
       "      <td>6689.898200</td>\n",
       "      <td>40761.25000</td>\n",
       "    </tr>\n",
       "    <tr>\n",
       "      <th>INSTALLMENTS_PURCHASES</th>\n",
       "      <td>8950.0</td>\n",
       "      <td>0.0</td>\n",
       "      <td>3.679055e+06</td>\n",
       "      <td>411.067645</td>\n",
       "      <td>89.000000</td>\n",
       "      <td>904.338115</td>\n",
       "      <td>8.178274e+05</td>\n",
       "      <td>0.000000</td>\n",
       "      <td>0.000000</td>\n",
       "      <td>0.000000</td>\n",
       "      <td>0.000000</td>\n",
       "      <td>0.000000</td>\n",
       "      <td>89.000000</td>\n",
       "      <td>468.637500</td>\n",
       "      <td>1140.070000</td>\n",
       "      <td>1750.087500</td>\n",
       "      <td>3886.240500</td>\n",
       "      <td>22500.00000</td>\n",
       "    </tr>\n",
       "    <tr>\n",
       "      <th>CASH_ADVANCE</th>\n",
       "      <td>8950.0</td>\n",
       "      <td>0.0</td>\n",
       "      <td>8.760896e+06</td>\n",
       "      <td>978.871112</td>\n",
       "      <td>0.000000</td>\n",
       "      <td>2097.163877</td>\n",
       "      <td>4.398096e+06</td>\n",
       "      <td>0.000000</td>\n",
       "      <td>0.000000</td>\n",
       "      <td>0.000000</td>\n",
       "      <td>0.000000</td>\n",
       "      <td>0.000000</td>\n",
       "      <td>0.000000</td>\n",
       "      <td>1113.821139</td>\n",
       "      <td>3065.534560</td>\n",
       "      <td>4647.169122</td>\n",
       "      <td>9588.163357</td>\n",
       "      <td>47137.21176</td>\n",
       "    </tr>\n",
       "    <tr>\n",
       "      <th>PURCHASES_FREQUENCY</th>\n",
       "      <td>8950.0</td>\n",
       "      <td>0.0</td>\n",
       "      <td>4.388637e+03</td>\n",
       "      <td>0.490351</td>\n",
       "      <td>0.500000</td>\n",
       "      <td>0.401371</td>\n",
       "      <td>1.610985e-01</td>\n",
       "      <td>0.000000</td>\n",
       "      <td>0.000000</td>\n",
       "      <td>0.000000</td>\n",
       "      <td>0.000000</td>\n",
       "      <td>0.083333</td>\n",
       "      <td>0.500000</td>\n",
       "      <td>0.916667</td>\n",
       "      <td>1.000000</td>\n",
       "      <td>1.000000</td>\n",
       "      <td>1.000000</td>\n",
       "      <td>1.00000</td>\n",
       "    </tr>\n",
       "    <tr>\n",
       "      <th>ONEOFF_PURCHASES_FREQUENCY</th>\n",
       "      <td>8950.0</td>\n",
       "      <td>0.0</td>\n",
       "      <td>1.811996e+03</td>\n",
       "      <td>0.202458</td>\n",
       "      <td>0.083333</td>\n",
       "      <td>0.298336</td>\n",
       "      <td>8.900441e-02</td>\n",
       "      <td>0.000000</td>\n",
       "      <td>0.000000</td>\n",
       "      <td>0.000000</td>\n",
       "      <td>0.000000</td>\n",
       "      <td>0.000000</td>\n",
       "      <td>0.083333</td>\n",
       "      <td>0.300000</td>\n",
       "      <td>0.750000</td>\n",
       "      <td>1.000000</td>\n",
       "      <td>1.000000</td>\n",
       "      <td>1.00000</td>\n",
       "    </tr>\n",
       "    <tr>\n",
       "      <th>PURCHASES_INSTALLMENTS_FREQUENCY</th>\n",
       "      <td>8950.0</td>\n",
       "      <td>0.0</td>\n",
       "      <td>3.261714e+03</td>\n",
       "      <td>0.364437</td>\n",
       "      <td>0.166667</td>\n",
       "      <td>0.397448</td>\n",
       "      <td>1.579647e-01</td>\n",
       "      <td>0.000000</td>\n",
       "      <td>0.000000</td>\n",
       "      <td>0.000000</td>\n",
       "      <td>0.000000</td>\n",
       "      <td>0.000000</td>\n",
       "      <td>0.166667</td>\n",
       "      <td>0.750000</td>\n",
       "      <td>1.000000</td>\n",
       "      <td>1.000000</td>\n",
       "      <td>1.000000</td>\n",
       "      <td>1.00000</td>\n",
       "    </tr>\n",
       "    <tr>\n",
       "      <th>CASH_ADVANCE_FREQUENCY</th>\n",
       "      <td>8950.0</td>\n",
       "      <td>0.0</td>\n",
       "      <td>1.209541e+03</td>\n",
       "      <td>0.135144</td>\n",
       "      <td>0.000000</td>\n",
       "      <td>0.200121</td>\n",
       "      <td>4.004857e-02</td>\n",
       "      <td>0.000000</td>\n",
       "      <td>0.000000</td>\n",
       "      <td>0.000000</td>\n",
       "      <td>0.000000</td>\n",
       "      <td>0.000000</td>\n",
       "      <td>0.000000</td>\n",
       "      <td>0.222222</td>\n",
       "      <td>0.416667</td>\n",
       "      <td>0.583333</td>\n",
       "      <td>0.833333</td>\n",
       "      <td>1.50000</td>\n",
       "    </tr>\n",
       "    <tr>\n",
       "      <th>CASH_ADVANCE_TRX</th>\n",
       "      <td>8950.0</td>\n",
       "      <td>0.0</td>\n",
       "      <td>2.907700e+04</td>\n",
       "      <td>3.248827</td>\n",
       "      <td>0.000000</td>\n",
       "      <td>6.824647</td>\n",
       "      <td>4.657580e+01</td>\n",
       "      <td>0.000000</td>\n",
       "      <td>0.000000</td>\n",
       "      <td>0.000000</td>\n",
       "      <td>0.000000</td>\n",
       "      <td>0.000000</td>\n",
       "      <td>0.000000</td>\n",
       "      <td>4.000000</td>\n",
       "      <td>10.000000</td>\n",
       "      <td>15.000000</td>\n",
       "      <td>29.000000</td>\n",
       "      <td>123.00000</td>\n",
       "    </tr>\n",
       "    <tr>\n",
       "      <th>PURCHASES_TRX</th>\n",
       "      <td>8950.0</td>\n",
       "      <td>0.0</td>\n",
       "      <td>1.316530e+05</td>\n",
       "      <td>14.709832</td>\n",
       "      <td>7.000000</td>\n",
       "      <td>24.857649</td>\n",
       "      <td>6.179027e+02</td>\n",
       "      <td>0.000000</td>\n",
       "      <td>0.000000</td>\n",
       "      <td>0.000000</td>\n",
       "      <td>0.000000</td>\n",
       "      <td>1.000000</td>\n",
       "      <td>7.000000</td>\n",
       "      <td>17.000000</td>\n",
       "      <td>37.000000</td>\n",
       "      <td>57.000000</td>\n",
       "      <td>116.510000</td>\n",
       "      <td>358.00000</td>\n",
       "    </tr>\n",
       "    <tr>\n",
       "      <th>CREDIT_LIMIT</th>\n",
       "      <td>8950.0</td>\n",
       "      <td>0.0</td>\n",
       "      <td>4.022383e+07</td>\n",
       "      <td>4494.282473</td>\n",
       "      <td>3000.000000</td>\n",
       "      <td>3638.646702</td>\n",
       "      <td>1.323975e+07</td>\n",
       "      <td>50.000000</td>\n",
       "      <td>500.000000</td>\n",
       "      <td>1000.000000</td>\n",
       "      <td>1200.000000</td>\n",
       "      <td>1600.000000</td>\n",
       "      <td>3000.000000</td>\n",
       "      <td>6500.000000</td>\n",
       "      <td>9500.000000</td>\n",
       "      <td>12000.000000</td>\n",
       "      <td>17000.000000</td>\n",
       "      <td>30000.00000</td>\n",
       "    </tr>\n",
       "    <tr>\n",
       "      <th>PAYMENTS</th>\n",
       "      <td>8950.0</td>\n",
       "      <td>0.0</td>\n",
       "      <td>1.551164e+07</td>\n",
       "      <td>1733.143852</td>\n",
       "      <td>856.901546</td>\n",
       "      <td>2895.063757</td>\n",
       "      <td>8.381394e+06</td>\n",
       "      <td>0.000000</td>\n",
       "      <td>0.000000</td>\n",
       "      <td>89.988924</td>\n",
       "      <td>179.617069</td>\n",
       "      <td>383.276166</td>\n",
       "      <td>856.901546</td>\n",
       "      <td>1901.134317</td>\n",
       "      <td>3923.906642</td>\n",
       "      <td>6082.090595</td>\n",
       "      <td>13608.715541</td>\n",
       "      <td>50721.48336</td>\n",
       "    </tr>\n",
       "    <tr>\n",
       "      <th>MINIMUM_PAYMENTS</th>\n",
       "      <td>8950.0</td>\n",
       "      <td>0.0</td>\n",
       "      <td>7.561916e+06</td>\n",
       "      <td>844.906767</td>\n",
       "      <td>312.343947</td>\n",
       "      <td>2332.792322</td>\n",
       "      <td>5.441920e+06</td>\n",
       "      <td>0.019163</td>\n",
       "      <td>20.040613</td>\n",
       "      <td>74.644117</td>\n",
       "      <td>109.131328</td>\n",
       "      <td>170.857654</td>\n",
       "      <td>312.343947</td>\n",
       "      <td>788.713501</td>\n",
       "      <td>1731.689977</td>\n",
       "      <td>2719.566935</td>\n",
       "      <td>8626.691541</td>\n",
       "      <td>76406.20752</td>\n",
       "    </tr>\n",
       "    <tr>\n",
       "      <th>PRC_FULL_PAYMENT</th>\n",
       "      <td>8950.0</td>\n",
       "      <td>0.0</td>\n",
       "      <td>1.375746e+03</td>\n",
       "      <td>0.153715</td>\n",
       "      <td>0.000000</td>\n",
       "      <td>0.292499</td>\n",
       "      <td>8.555578e-02</td>\n",
       "      <td>0.000000</td>\n",
       "      <td>0.000000</td>\n",
       "      <td>0.000000</td>\n",
       "      <td>0.000000</td>\n",
       "      <td>0.000000</td>\n",
       "      <td>0.000000</td>\n",
       "      <td>0.142857</td>\n",
       "      <td>0.670000</td>\n",
       "      <td>1.000000</td>\n",
       "      <td>1.000000</td>\n",
       "      <td>1.00000</td>\n",
       "    </tr>\n",
       "    <tr>\n",
       "      <th>TENURE</th>\n",
       "      <td>8950.0</td>\n",
       "      <td>0.0</td>\n",
       "      <td>1.030800e+05</td>\n",
       "      <td>11.517318</td>\n",
       "      <td>12.000000</td>\n",
       "      <td>1.338331</td>\n",
       "      <td>1.791129e+00</td>\n",
       "      <td>6.000000</td>\n",
       "      <td>6.000000</td>\n",
       "      <td>8.000000</td>\n",
       "      <td>10.000000</td>\n",
       "      <td>12.000000</td>\n",
       "      <td>12.000000</td>\n",
       "      <td>12.000000</td>\n",
       "      <td>12.000000</td>\n",
       "      <td>12.000000</td>\n",
       "      <td>12.000000</td>\n",
       "      <td>12.00000</td>\n",
       "    </tr>\n",
       "  </tbody>\n",
       "</table>\n",
       "</div>"
      ],
      "text/plain": [
       "                                       N  NMISS           SUM         MEAN  \\\n",
       "BALANCE                           8950.0    0.0  1.400205e+07  1564.474828   \n",
       "BALANCE_FREQUENCY                 8950.0    0.0  7.851573e+03     0.877271   \n",
       "PURCHASES                         8950.0    0.0  8.978683e+06  1003.204834   \n",
       "ONEOFF_PURCHASES                  8950.0    0.0  5.302314e+06   592.437371   \n",
       "INSTALLMENTS_PURCHASES            8950.0    0.0  3.679055e+06   411.067645   \n",
       "CASH_ADVANCE                      8950.0    0.0  8.760896e+06   978.871112   \n",
       "PURCHASES_FREQUENCY               8950.0    0.0  4.388637e+03     0.490351   \n",
       "ONEOFF_PURCHASES_FREQUENCY        8950.0    0.0  1.811996e+03     0.202458   \n",
       "PURCHASES_INSTALLMENTS_FREQUENCY  8950.0    0.0  3.261714e+03     0.364437   \n",
       "CASH_ADVANCE_FREQUENCY            8950.0    0.0  1.209541e+03     0.135144   \n",
       "CASH_ADVANCE_TRX                  8950.0    0.0  2.907700e+04     3.248827   \n",
       "PURCHASES_TRX                     8950.0    0.0  1.316530e+05    14.709832   \n",
       "CREDIT_LIMIT                      8950.0    0.0  4.022383e+07  4494.282473   \n",
       "PAYMENTS                          8950.0    0.0  1.551164e+07  1733.143852   \n",
       "MINIMUM_PAYMENTS                  8950.0    0.0  7.561916e+06   844.906767   \n",
       "PRC_FULL_PAYMENT                  8950.0    0.0  1.375746e+03     0.153715   \n",
       "TENURE                            8950.0    0.0  1.030800e+05    11.517318   \n",
       "\n",
       "                                       MEDIAN          STD           VAR  \\\n",
       "BALANCE                            873.385231  2081.531879  4.332775e+06   \n",
       "BALANCE_FREQUENCY                    1.000000     0.236904  5.612351e-02   \n",
       "PURCHASES                          361.280000  2136.634782  4.565208e+06   \n",
       "ONEOFF_PURCHASES                    38.000000  1659.887917  2.755228e+06   \n",
       "INSTALLMENTS_PURCHASES              89.000000   904.338115  8.178274e+05   \n",
       "CASH_ADVANCE                         0.000000  2097.163877  4.398096e+06   \n",
       "PURCHASES_FREQUENCY                  0.500000     0.401371  1.610985e-01   \n",
       "ONEOFF_PURCHASES_FREQUENCY           0.083333     0.298336  8.900441e-02   \n",
       "PURCHASES_INSTALLMENTS_FREQUENCY     0.166667     0.397448  1.579647e-01   \n",
       "CASH_ADVANCE_FREQUENCY               0.000000     0.200121  4.004857e-02   \n",
       "CASH_ADVANCE_TRX                     0.000000     6.824647  4.657580e+01   \n",
       "PURCHASES_TRX                        7.000000    24.857649  6.179027e+02   \n",
       "CREDIT_LIMIT                      3000.000000  3638.646702  1.323975e+07   \n",
       "PAYMENTS                           856.901546  2895.063757  8.381394e+06   \n",
       "MINIMUM_PAYMENTS                   312.343947  2332.792322  5.441920e+06   \n",
       "PRC_FULL_PAYMENT                     0.000000     0.292499  8.555578e-02   \n",
       "TENURE                              12.000000     1.338331  1.791129e+00   \n",
       "\n",
       "                                        MIN          P1           P5  \\\n",
       "BALANCE                            0.000000    0.065101     8.814518   \n",
       "BALANCE_FREQUENCY                  0.000000    0.090909     0.272727   \n",
       "PURCHASES                          0.000000    0.000000     0.000000   \n",
       "ONEOFF_PURCHASES                   0.000000    0.000000     0.000000   \n",
       "INSTALLMENTS_PURCHASES             0.000000    0.000000     0.000000   \n",
       "CASH_ADVANCE                       0.000000    0.000000     0.000000   \n",
       "PURCHASES_FREQUENCY                0.000000    0.000000     0.000000   \n",
       "ONEOFF_PURCHASES_FREQUENCY         0.000000    0.000000     0.000000   \n",
       "PURCHASES_INSTALLMENTS_FREQUENCY   0.000000    0.000000     0.000000   \n",
       "CASH_ADVANCE_FREQUENCY             0.000000    0.000000     0.000000   \n",
       "CASH_ADVANCE_TRX                   0.000000    0.000000     0.000000   \n",
       "PURCHASES_TRX                      0.000000    0.000000     0.000000   \n",
       "CREDIT_LIMIT                      50.000000  500.000000  1000.000000   \n",
       "PAYMENTS                           0.000000    0.000000    89.988924   \n",
       "MINIMUM_PAYMENTS                   0.019163   20.040613    74.644117   \n",
       "PRC_FULL_PAYMENT                   0.000000    0.000000     0.000000   \n",
       "TENURE                             6.000000    6.000000     8.000000   \n",
       "\n",
       "                                          P10          P25          P50  \\\n",
       "BALANCE                             23.575529   128.281915   873.385231   \n",
       "BALANCE_FREQUENCY                    0.454545     0.888889     1.000000   \n",
       "PURCHASES                            0.000000    39.635000   361.280000   \n",
       "ONEOFF_PURCHASES                     0.000000     0.000000    38.000000   \n",
       "INSTALLMENTS_PURCHASES               0.000000     0.000000    89.000000   \n",
       "CASH_ADVANCE                         0.000000     0.000000     0.000000   \n",
       "PURCHASES_FREQUENCY                  0.000000     0.083333     0.500000   \n",
       "ONEOFF_PURCHASES_FREQUENCY           0.000000     0.000000     0.083333   \n",
       "PURCHASES_INSTALLMENTS_FREQUENCY     0.000000     0.000000     0.166667   \n",
       "CASH_ADVANCE_FREQUENCY               0.000000     0.000000     0.000000   \n",
       "CASH_ADVANCE_TRX                     0.000000     0.000000     0.000000   \n",
       "PURCHASES_TRX                        0.000000     1.000000     7.000000   \n",
       "CREDIT_LIMIT                      1200.000000  1600.000000  3000.000000   \n",
       "PAYMENTS                           179.617069   383.276166   856.901546   \n",
       "MINIMUM_PAYMENTS                   109.131328   170.857654   312.343947   \n",
       "PRC_FULL_PAYMENT                     0.000000     0.000000     0.000000   \n",
       "TENURE                              10.000000    12.000000    12.000000   \n",
       "\n",
       "                                          P75          P90           P95  \\\n",
       "BALANCE                           2054.140036  4338.563657   5909.111808   \n",
       "BALANCE_FREQUENCY                    1.000000     1.000000      1.000000   \n",
       "PURCHASES                         1110.130000  2542.624000   3998.619500   \n",
       "ONEOFF_PURCHASES                   577.405000  1600.099000   2671.094000   \n",
       "INSTALLMENTS_PURCHASES             468.637500  1140.070000   1750.087500   \n",
       "CASH_ADVANCE                      1113.821139  3065.534560   4647.169122   \n",
       "PURCHASES_FREQUENCY                  0.916667     1.000000      1.000000   \n",
       "ONEOFF_PURCHASES_FREQUENCY           0.300000     0.750000      1.000000   \n",
       "PURCHASES_INSTALLMENTS_FREQUENCY     0.750000     1.000000      1.000000   \n",
       "CASH_ADVANCE_FREQUENCY               0.222222     0.416667      0.583333   \n",
       "CASH_ADVANCE_TRX                     4.000000    10.000000     15.000000   \n",
       "PURCHASES_TRX                       17.000000    37.000000     57.000000   \n",
       "CREDIT_LIMIT                      6500.000000  9500.000000  12000.000000   \n",
       "PAYMENTS                          1901.134317  3923.906642   6082.090595   \n",
       "MINIMUM_PAYMENTS                   788.713501  1731.689977   2719.566935   \n",
       "PRC_FULL_PAYMENT                     0.142857     0.670000      1.000000   \n",
       "TENURE                              12.000000    12.000000     12.000000   \n",
       "\n",
       "                                           P99          MAX  \n",
       "BALANCE                            9338.804814  19043.13856  \n",
       "BALANCE_FREQUENCY                     1.000000      1.00000  \n",
       "PURCHASES                          8977.290000  49039.57000  \n",
       "ONEOFF_PURCHASES                   6689.898200  40761.25000  \n",
       "INSTALLMENTS_PURCHASES             3886.240500  22500.00000  \n",
       "CASH_ADVANCE                       9588.163357  47137.21176  \n",
       "PURCHASES_FREQUENCY                   1.000000      1.00000  \n",
       "ONEOFF_PURCHASES_FREQUENCY            1.000000      1.00000  \n",
       "PURCHASES_INSTALLMENTS_FREQUENCY      1.000000      1.00000  \n",
       "CASH_ADVANCE_FREQUENCY                0.833333      1.50000  \n",
       "CASH_ADVANCE_TRX                     29.000000    123.00000  \n",
       "PURCHASES_TRX                       116.510000    358.00000  \n",
       "CREDIT_LIMIT                      17000.000000  30000.00000  \n",
       "PAYMENTS                          13608.715541  50721.48336  \n",
       "MINIMUM_PAYMENTS                   8626.691541  76406.20752  \n",
       "PRC_FULL_PAYMENT                      1.000000      1.00000  \n",
       "TENURE                               12.000000     12.00000  "
      ]
     },
     "execution_count": 24,
     "metadata": {},
     "output_type": "execute_result"
    }
   ],
   "source": [
    "# summary of continuous variables\n",
    "conti_vars.apply(continuous_var_summary).T"
   ]
  },
  {
   "cell_type": "code",
   "execution_count": 25,
   "metadata": {},
   "outputs": [
    {
     "data": {
      "text/html": [
       "<div>\n",
       "<style scoped>\n",
       "    .dataframe tbody tr th:only-of-type {\n",
       "        vertical-align: middle;\n",
       "    }\n",
       "\n",
       "    .dataframe tbody tr th {\n",
       "        vertical-align: top;\n",
       "    }\n",
       "\n",
       "    .dataframe thead th {\n",
       "        text-align: right;\n",
       "    }\n",
       "</style>\n",
       "<table border=\"1\" class=\"dataframe\">\n",
       "  <thead>\n",
       "    <tr style=\"text-align: right;\">\n",
       "      <th></th>\n",
       "      <th>N</th>\n",
       "      <th>NMISS</th>\n",
       "      <th>MODE</th>\n",
       "      <th>FREQ</th>\n",
       "      <th>PERCENT</th>\n",
       "    </tr>\n",
       "  </thead>\n",
       "  <tbody>\n",
       "    <tr>\n",
       "      <th>CUST_ID</th>\n",
       "      <td>8950</td>\n",
       "      <td>0</td>\n",
       "      <td>C16973</td>\n",
       "      <td>1</td>\n",
       "      <td>0.01</td>\n",
       "    </tr>\n",
       "  </tbody>\n",
       "</table>\n",
       "</div>"
      ],
      "text/plain": [
       "            N NMISS    MODE FREQ PERCENT\n",
       "CUST_ID  8950     0  C16973    1    0.01"
      ]
     },
     "execution_count": 25,
     "metadata": {},
     "output_type": "execute_result"
    }
   ],
   "source": [
    "# summary of continuous variables\n",
    "cat_var.apply(categorical_var_summary).T"
   ]
  },
  {
   "cell_type": "markdown",
   "metadata": {},
   "source": [
    "# KPI's"
   ]
  },
  {
   "cell_type": "markdown",
   "metadata": {},
   "source": [
    "### Monthly average purchase and cash advance amount"
   ]
  },
  {
   "cell_type": "markdown",
   "metadata": {},
   "source": [
    "### Monthly average purchase"
   ]
  },
  {
   "cell_type": "code",
   "execution_count": 26,
   "metadata": {},
   "outputs": [],
   "source": [
    "credit['Monthly_avg_purchase']=credit['PURCHASES']/credit['TENURE']"
   ]
  },
  {
   "cell_type": "code",
   "execution_count": 27,
   "metadata": {},
   "outputs": [
    {
     "name": "stdout",
     "output_type": "stream",
     "text": [
      "0      7.950000\n",
      "1      0.000000\n",
      "2     64.430833\n",
      "3    124.916667\n",
      "4      1.333333\n",
      "Name: Monthly_avg_purchase, dtype: float64 \n",
      "  0    12\n",
      "1    12\n",
      "2    12\n",
      "3    12\n",
      "4    12\n",
      "Name: TENURE, dtype: int64 \n",
      " 0      95.40\n",
      "1       0.00\n",
      "2     773.17\n",
      "3    1499.00\n",
      "4      16.00\n",
      "Name: PURCHASES, dtype: float64\n"
     ]
    }
   ],
   "source": [
    "print(credit['Monthly_avg_purchase'].head(),'\\n ',\n",
    "credit['TENURE'].head(),'\\n', credit['PURCHASES'].head())"
   ]
  },
  {
   "cell_type": "markdown",
   "metadata": {},
   "source": [
    "### Monthly cash advance Amount"
   ]
  },
  {
   "cell_type": "code",
   "execution_count": 28,
   "metadata": {},
   "outputs": [],
   "source": [
    "credit['Monthly_cash_advance']=credit['CASH_ADVANCE']/credit['TENURE']"
   ]
  },
  {
   "cell_type": "code",
   "execution_count": 29,
   "metadata": {},
   "outputs": [
    {
     "data": {
      "text/plain": [
       "4302"
      ]
     },
     "execution_count": 29,
     "metadata": {},
     "output_type": "execute_result"
    }
   ],
   "source": [
    "credit[credit['ONEOFF_PURCHASES']==0]['ONEOFF_PURCHASES'].count()"
   ]
  },
  {
   "cell_type": "markdown",
   "metadata": {},
   "source": [
    "### Purchases by type (one-off, installments)"
   ]
  },
  {
   "cell_type": "code",
   "execution_count": 30,
   "metadata": {},
   "outputs": [
    {
     "data": {
      "text/html": [
       "<div>\n",
       "<style scoped>\n",
       "    .dataframe tbody tr th:only-of-type {\n",
       "        vertical-align: middle;\n",
       "    }\n",
       "\n",
       "    .dataframe tbody tr th {\n",
       "        vertical-align: top;\n",
       "    }\n",
       "\n",
       "    .dataframe thead th {\n",
       "        text-align: right;\n",
       "    }\n",
       "</style>\n",
       "<table border=\"1\" class=\"dataframe\">\n",
       "  <thead>\n",
       "    <tr style=\"text-align: right;\">\n",
       "      <th></th>\n",
       "      <th>ONEOFF_PURCHASES</th>\n",
       "      <th>INSTALLMENTS_PURCHASES</th>\n",
       "    </tr>\n",
       "  </thead>\n",
       "  <tbody>\n",
       "    <tr>\n",
       "      <th>0</th>\n",
       "      <td>0.00</td>\n",
       "      <td>95.40</td>\n",
       "    </tr>\n",
       "    <tr>\n",
       "      <th>1</th>\n",
       "      <td>0.00</td>\n",
       "      <td>0.00</td>\n",
       "    </tr>\n",
       "    <tr>\n",
       "      <th>2</th>\n",
       "      <td>773.17</td>\n",
       "      <td>0.00</td>\n",
       "    </tr>\n",
       "    <tr>\n",
       "      <th>3</th>\n",
       "      <td>1499.00</td>\n",
       "      <td>0.00</td>\n",
       "    </tr>\n",
       "    <tr>\n",
       "      <th>4</th>\n",
       "      <td>16.00</td>\n",
       "      <td>0.00</td>\n",
       "    </tr>\n",
       "    <tr>\n",
       "      <th>...</th>\n",
       "      <td>...</td>\n",
       "      <td>...</td>\n",
       "    </tr>\n",
       "    <tr>\n",
       "      <th>8945</th>\n",
       "      <td>0.00</td>\n",
       "      <td>291.12</td>\n",
       "    </tr>\n",
       "    <tr>\n",
       "      <th>8946</th>\n",
       "      <td>0.00</td>\n",
       "      <td>300.00</td>\n",
       "    </tr>\n",
       "    <tr>\n",
       "      <th>8947</th>\n",
       "      <td>0.00</td>\n",
       "      <td>144.40</td>\n",
       "    </tr>\n",
       "    <tr>\n",
       "      <th>8948</th>\n",
       "      <td>0.00</td>\n",
       "      <td>0.00</td>\n",
       "    </tr>\n",
       "    <tr>\n",
       "      <th>8949</th>\n",
       "      <td>1093.25</td>\n",
       "      <td>0.00</td>\n",
       "    </tr>\n",
       "  </tbody>\n",
       "</table>\n",
       "<p>8950 rows × 2 columns</p>\n",
       "</div>"
      ],
      "text/plain": [
       "      ONEOFF_PURCHASES  INSTALLMENTS_PURCHASES\n",
       "0                 0.00                   95.40\n",
       "1                 0.00                    0.00\n",
       "2               773.17                    0.00\n",
       "3              1499.00                    0.00\n",
       "4                16.00                    0.00\n",
       "...                ...                     ...\n",
       "8945              0.00                  291.12\n",
       "8946              0.00                  300.00\n",
       "8947              0.00                  144.40\n",
       "8948              0.00                    0.00\n",
       "8949           1093.25                    0.00\n",
       "\n",
       "[8950 rows x 2 columns]"
      ]
     },
     "execution_count": 30,
     "metadata": {},
     "output_type": "execute_result"
    }
   ],
   "source": [
    "credit.loc[:,['ONEOFF_PURCHASES','INSTALLMENTS_PURCHASES']]"
   ]
  },
  {
   "cell_type": "markdown",
   "metadata": {},
   "source": [
    "### Finding customers ONEOFF_PURCHASES and INSTALLMENTS_PURCHASES "
   ]
  },
  {
   "cell_type": "code",
   "execution_count": 31,
   "metadata": {},
   "outputs": [
    {
     "data": {
      "text/plain": [
       "(2042, 20)"
      ]
     },
     "execution_count": 31,
     "metadata": {},
     "output_type": "execute_result"
    }
   ],
   "source": [
    "credit[(credit['ONEOFF_PURCHASES']==0) & (credit['INSTALLMENTS_PURCHASES']==0)].shape"
   ]
  },
  {
   "cell_type": "code",
   "execution_count": 32,
   "metadata": {},
   "outputs": [
    {
     "data": {
      "text/plain": [
       "(2774, 20)"
      ]
     },
     "execution_count": 32,
     "metadata": {},
     "output_type": "execute_result"
    }
   ],
   "source": [
    "credit[(credit['ONEOFF_PURCHASES']>0) & (credit['INSTALLMENTS_PURCHASES']>0)].shape"
   ]
  },
  {
   "cell_type": "code",
   "execution_count": 33,
   "metadata": {},
   "outputs": [
    {
     "data": {
      "text/plain": [
       "(1874, 20)"
      ]
     },
     "execution_count": 33,
     "metadata": {},
     "output_type": "execute_result"
    }
   ],
   "source": [
    "credit[(credit['ONEOFF_PURCHASES']>0) & (credit['INSTALLMENTS_PURCHASES']==0)].shape"
   ]
  },
  {
   "cell_type": "code",
   "execution_count": 34,
   "metadata": {},
   "outputs": [
    {
     "data": {
      "text/plain": [
       "(2260, 20)"
      ]
     },
     "execution_count": 34,
     "metadata": {},
     "output_type": "execute_result"
    }
   ],
   "source": [
    "credit[(credit['ONEOFF_PURCHASES']==0) & (credit['INSTALLMENTS_PURCHASES']>0)].shape"
   ]
  },
  {
   "cell_type": "code",
   "execution_count": 35,
   "metadata": {},
   "outputs": [],
   "source": [
    "def purchase(credit):\n",
    "    if (credit['ONEOFF_PURCHASES']==0) & (credit['INSTALLMENTS_PURCHASES']==0):\n",
    "        return 'none'\n",
    "    if (credit['ONEOFF_PURCHASES']>0) & (credit['INSTALLMENTS_PURCHASES']>0):\n",
    "         return 'both_oneoff_installment'\n",
    "    if (credit['ONEOFF_PURCHASES']>0) & (credit['INSTALLMENTS_PURCHASES']==0):\n",
    "        return 'one_off'\n",
    "    if (credit['ONEOFF_PURCHASES']==0) & (credit['INSTALLMENTS_PURCHASES']>0):\n",
    "        return 'istallment'"
   ]
  },
  {
   "cell_type": "code",
   "execution_count": 36,
   "metadata": {},
   "outputs": [],
   "source": [
    "credit['purchase_type']=credit.apply(purchase,axis=1)"
   ]
  },
  {
   "cell_type": "code",
   "execution_count": 37,
   "metadata": {},
   "outputs": [
    {
     "data": {
      "text/plain": [
       "both_oneoff_installment    2774\n",
       "istallment                 2260\n",
       "none                       2042\n",
       "one_off                    1874\n",
       "Name: purchase_type, dtype: int64"
      ]
     },
     "execution_count": 37,
     "metadata": {},
     "output_type": "execute_result"
    }
   ],
   "source": [
    "credit['purchase_type'].value_counts()"
   ]
  },
  {
   "cell_type": "markdown",
   "metadata": {},
   "source": [
    "###  Limit_usage (balance to credit limit ratio ) "
   ]
  },
  {
   "cell_type": "code",
   "execution_count": 38,
   "metadata": {},
   "outputs": [],
   "source": [
    "credit['limit_usage']=credit.apply(lambda x: x['BALANCE']/x['CREDIT_LIMIT'], axis=1)"
   ]
  },
  {
   "cell_type": "code",
   "execution_count": 39,
   "metadata": {},
   "outputs": [
    {
     "data": {
      "text/plain": [
       "0    0.040901\n",
       "1    0.457495\n",
       "2    0.332687\n",
       "3    0.222223\n",
       "4    0.681429\n",
       "Name: limit_usage, dtype: float64"
      ]
     },
     "execution_count": 39,
     "metadata": {},
     "output_type": "execute_result"
    }
   ],
   "source": [
    "credit['limit_usage'].head()"
   ]
  },
  {
   "cell_type": "markdown",
   "metadata": {},
   "source": [
    "## Payments to minimum payments ratio etc."
   ]
  },
  {
   "cell_type": "code",
   "execution_count": 40,
   "metadata": {},
   "outputs": [
    {
     "data": {
      "text/plain": [
       "False    8950\n",
       "Name: MINIMUM_PAYMENTS, dtype: int64"
      ]
     },
     "execution_count": 40,
     "metadata": {},
     "output_type": "execute_result"
    }
   ],
   "source": [
    "credit['PAYMENTS'].isnull().any()\n",
    "credit['MINIMUM_PAYMENTS'].isnull().value_counts()"
   ]
  },
  {
   "cell_type": "code",
   "execution_count": 41,
   "metadata": {},
   "outputs": [
    {
     "data": {
      "text/plain": [
       "count     8950.000000\n",
       "mean       844.906767\n",
       "std       2332.792322\n",
       "min          0.019163\n",
       "25%        170.857654\n",
       "50%        312.343947\n",
       "75%        788.713501\n",
       "max      76406.207520\n",
       "Name: MINIMUM_PAYMENTS, dtype: float64"
      ]
     },
     "execution_count": 41,
     "metadata": {},
     "output_type": "execute_result"
    }
   ],
   "source": [
    "credit['MINIMUM_PAYMENTS'].describe()"
   ]
  },
  {
   "cell_type": "code",
   "execution_count": 42,
   "metadata": {},
   "outputs": [],
   "source": [
    "credit['payment_minpay']=credit.apply(lambda x:x['PAYMENTS']/x['MINIMUM_PAYMENTS'],axis=1)"
   ]
  },
  {
   "cell_type": "code",
   "execution_count": 43,
   "metadata": {},
   "outputs": [
    {
     "data": {
      "text/plain": [
       "0       1.446508\n",
       "1       3.826241\n",
       "2       0.991682\n",
       "3       0.000000\n",
       "4       2.771075\n",
       "          ...   \n",
       "8945    6.660231\n",
       "8946    0.883197\n",
       "8947    0.986076\n",
       "8948    0.942505\n",
       "8949    0.715439\n",
       "Name: payment_minpay, Length: 8950, dtype: float64"
      ]
     },
     "execution_count": 43,
     "metadata": {},
     "output_type": "execute_result"
    }
   ],
   "source": [
    "credit['payment_minpay']"
   ]
  },
  {
   "cell_type": "markdown",
   "metadata": {},
   "source": [
    "##  Outliners treatment"
   ]
  },
  {
   "cell_type": "code",
   "execution_count": 44,
   "metadata": {},
   "outputs": [
    {
     "data": {
      "text/plain": [
       "<matplotlib.axes._subplots.AxesSubplot at 0x1774a91cd88>"
      ]
     },
     "execution_count": 44,
     "metadata": {},
     "output_type": "execute_result"
    },
    {
     "data": {
      "image/png": "[encoded data removed]",
      "text/plain": [
       "<Figure size 432x288 with 1 Axes>"
      ]
     },
     "metadata": {
      "needs_background": "light"
     },
     "output_type": "display_data"
    }
   ],
   "source": [
    "import seaborn as sns\n",
    "sns.boxplot(x=credit[\"PAYMENTS\"])"
   ]
  },
  {
   "cell_type": "code",
   "execution_count": 45,
   "metadata": {},
   "outputs": [
    {
     "data": {
      "text/plain": [
       "<matplotlib.legend.Legend at 0x1774a9343c8>"
      ]
     },
     "execution_count": 45,
     "metadata": {},
     "output_type": "execute_result"
    },
    {
     "data": {
      "image/png": "[encoded data removed]",
      "text/plain": [
       "<Figure size 720x576 with 1 Axes>"
      ]
     },
     "metadata": {
      "needs_background": "light"
     },
     "output_type": "display_data"
    }
   ],
   "source": [
    "# Plot the distplot of target\n",
    "plt.figure(figsize=(10,8))\n",
    "bar = sns.distplot(credit[\"PAYMENTS\"])\n",
    "bar.legend([\"Skewness: {:.2f}\".format(credit['PAYMENTS'].skew())])"
   ]
  },
  {
   "cell_type": "code",
   "execution_count": 46,
   "metadata": {},
   "outputs": [],
   "source": [
    "# log tranformation\n",
    "credit_log=credit.drop(['CUST_ID','purchase_type'],axis=1).applymap(lambda x: np.log(x+1))\n",
    "\n",
    "#credit = credit.apply(lambda x: x.clip(lower = x.quantile(0.01), upper = x.quantile(0.99)))"
   ]
  },
  {
   "cell_type": "code",
   "execution_count": 47,
   "metadata": {},
   "outputs": [
    {
     "data": {
      "text/html": [
       "<div>\n",
       "<style scoped>\n",
       "    .dataframe tbody tr th:only-of-type {\n",
       "        vertical-align: middle;\n",
       "    }\n",
       "\n",
       "    .dataframe tbody tr th {\n",
       "        vertical-align: top;\n",
       "    }\n",
       "\n",
       "    .dataframe thead th {\n",
       "        text-align: right;\n",
       "    }\n",
       "</style>\n",
       "<table border=\"1\" class=\"dataframe\">\n",
       "  <thead>\n",
       "    <tr style=\"text-align: right;\">\n",
       "      <th></th>\n",
       "      <th>BALANCE</th>\n",
       "      <th>BALANCE_FREQUENCY</th>\n",
       "      <th>PURCHASES</th>\n",
       "      <th>ONEOFF_PURCHASES</th>\n",
       "      <th>INSTALLMENTS_PURCHASES</th>\n",
       "      <th>CASH_ADVANCE</th>\n",
       "      <th>PURCHASES_FREQUENCY</th>\n",
       "      <th>ONEOFF_PURCHASES_FREQUENCY</th>\n",
       "      <th>PURCHASES_INSTALLMENTS_FREQUENCY</th>\n",
       "      <th>CASH_ADVANCE_FREQUENCY</th>\n",
       "      <th>...</th>\n",
       "      <th>PURCHASES_TRX</th>\n",
       "      <th>CREDIT_LIMIT</th>\n",
       "      <th>PAYMENTS</th>\n",
       "      <th>MINIMUM_PAYMENTS</th>\n",
       "      <th>PRC_FULL_PAYMENT</th>\n",
       "      <th>TENURE</th>\n",
       "      <th>Monthly_avg_purchase</th>\n",
       "      <th>Monthly_cash_advance</th>\n",
       "      <th>limit_usage</th>\n",
       "      <th>payment_minpay</th>\n",
       "    </tr>\n",
       "  </thead>\n",
       "  <tbody>\n",
       "    <tr>\n",
       "      <th>count</th>\n",
       "      <td>8950.000000</td>\n",
       "      <td>8950.000000</td>\n",
       "      <td>8950.000000</td>\n",
       "      <td>8950.000000</td>\n",
       "      <td>8950.000000</td>\n",
       "      <td>8950.000000</td>\n",
       "      <td>8950.000000</td>\n",
       "      <td>8950.000000</td>\n",
       "      <td>8950.000000</td>\n",
       "      <td>8950.000000</td>\n",
       "      <td>...</td>\n",
       "      <td>8950.000000</td>\n",
       "      <td>8950.000000</td>\n",
       "      <td>8950.000000</td>\n",
       "      <td>8950.000000</td>\n",
       "      <td>8950.000000</td>\n",
       "      <td>8950.000000</td>\n",
       "      <td>8950.000000</td>\n",
       "      <td>8950.000000</td>\n",
       "      <td>8950.000000</td>\n",
       "      <td>8950.000000</td>\n",
       "    </tr>\n",
       "    <tr>\n",
       "      <th>mean</th>\n",
       "      <td>6.161637</td>\n",
       "      <td>0.619940</td>\n",
       "      <td>4.899647</td>\n",
       "      <td>3.204274</td>\n",
       "      <td>3.352403</td>\n",
       "      <td>3.319086</td>\n",
       "      <td>0.361268</td>\n",
       "      <td>0.158699</td>\n",
       "      <td>0.270072</td>\n",
       "      <td>0.113512</td>\n",
       "      <td>...</td>\n",
       "      <td>1.894731</td>\n",
       "      <td>8.094825</td>\n",
       "      <td>6.624540</td>\n",
       "      <td>5.916079</td>\n",
       "      <td>0.117730</td>\n",
       "      <td>2.519680</td>\n",
       "      <td>3.050877</td>\n",
       "      <td>2.163970</td>\n",
       "      <td>0.296081</td>\n",
       "      <td>1.357600</td>\n",
       "    </tr>\n",
       "    <tr>\n",
       "      <th>std</th>\n",
       "      <td>2.013303</td>\n",
       "      <td>0.148590</td>\n",
       "      <td>2.916872</td>\n",
       "      <td>3.246365</td>\n",
       "      <td>3.082973</td>\n",
       "      <td>3.566298</td>\n",
       "      <td>0.277317</td>\n",
       "      <td>0.216672</td>\n",
       "      <td>0.281852</td>\n",
       "      <td>0.156716</td>\n",
       "      <td>...</td>\n",
       "      <td>1.373856</td>\n",
       "      <td>0.819629</td>\n",
       "      <td>1.591763</td>\n",
       "      <td>1.169929</td>\n",
       "      <td>0.211617</td>\n",
       "      <td>0.130367</td>\n",
       "      <td>2.002823</td>\n",
       "      <td>2.429741</td>\n",
       "      <td>0.250303</td>\n",
       "      <td>0.940149</td>\n",
       "    </tr>\n",
       "    <tr>\n",
       "      <th>min</th>\n",
       "      <td>0.000000</td>\n",
       "      <td>0.000000</td>\n",
       "      <td>0.000000</td>\n",
       "      <td>0.000000</td>\n",
       "      <td>0.000000</td>\n",
       "      <td>0.000000</td>\n",
       "      <td>0.000000</td>\n",
       "      <td>0.000000</td>\n",
       "      <td>0.000000</td>\n",
       "      <td>0.000000</td>\n",
       "      <td>...</td>\n",
       "      <td>0.000000</td>\n",
       "      <td>3.931826</td>\n",
       "      <td>0.000000</td>\n",
       "      <td>0.018982</td>\n",
       "      <td>0.000000</td>\n",
       "      <td>1.945910</td>\n",
       "      <td>0.000000</td>\n",
       "      <td>0.000000</td>\n",
       "      <td>0.000000</td>\n",
       "      <td>0.000000</td>\n",
       "    </tr>\n",
       "    <tr>\n",
       "      <th>25%</th>\n",
       "      <td>4.861995</td>\n",
       "      <td>0.635989</td>\n",
       "      <td>3.704627</td>\n",
       "      <td>0.000000</td>\n",
       "      <td>0.000000</td>\n",
       "      <td>0.000000</td>\n",
       "      <td>0.080042</td>\n",
       "      <td>0.000000</td>\n",
       "      <td>0.000000</td>\n",
       "      <td>0.000000</td>\n",
       "      <td>...</td>\n",
       "      <td>0.693147</td>\n",
       "      <td>7.378384</td>\n",
       "      <td>5.951361</td>\n",
       "      <td>5.146667</td>\n",
       "      <td>0.000000</td>\n",
       "      <td>2.564949</td>\n",
       "      <td>1.481458</td>\n",
       "      <td>0.000000</td>\n",
       "      <td>0.040656</td>\n",
       "      <td>0.648817</td>\n",
       "    </tr>\n",
       "    <tr>\n",
       "      <th>50%</th>\n",
       "      <td>6.773521</td>\n",
       "      <td>0.693147</td>\n",
       "      <td>5.892417</td>\n",
       "      <td>3.663562</td>\n",
       "      <td>4.499810</td>\n",
       "      <td>0.000000</td>\n",
       "      <td>0.405465</td>\n",
       "      <td>0.080042</td>\n",
       "      <td>0.154151</td>\n",
       "      <td>0.000000</td>\n",
       "      <td>...</td>\n",
       "      <td>2.079442</td>\n",
       "      <td>8.006701</td>\n",
       "      <td>6.754489</td>\n",
       "      <td>5.747301</td>\n",
       "      <td>0.000000</td>\n",
       "      <td>2.564949</td>\n",
       "      <td>3.494587</td>\n",
       "      <td>0.000000</td>\n",
       "      <td>0.264455</td>\n",
       "      <td>1.109459</td>\n",
       "    </tr>\n",
       "    <tr>\n",
       "      <th>75%</th>\n",
       "      <td>7.628099</td>\n",
       "      <td>0.693147</td>\n",
       "      <td>7.013133</td>\n",
       "      <td>6.360274</td>\n",
       "      <td>6.151961</td>\n",
       "      <td>7.016449</td>\n",
       "      <td>0.650588</td>\n",
       "      <td>0.262364</td>\n",
       "      <td>0.559616</td>\n",
       "      <td>0.200671</td>\n",
       "      <td>...</td>\n",
       "      <td>2.890372</td>\n",
       "      <td>8.779711</td>\n",
       "      <td>7.550732</td>\n",
       "      <td>6.671670</td>\n",
       "      <td>0.133531</td>\n",
       "      <td>2.564949</td>\n",
       "      <td>4.587295</td>\n",
       "      <td>4.606022</td>\n",
       "      <td>0.540911</td>\n",
       "      <td>1.953415</td>\n",
       "    </tr>\n",
       "    <tr>\n",
       "      <th>max</th>\n",
       "      <td>9.854515</td>\n",
       "      <td>0.693147</td>\n",
       "      <td>10.800403</td>\n",
       "      <td>10.615512</td>\n",
       "      <td>10.021315</td>\n",
       "      <td>10.760839</td>\n",
       "      <td>0.693147</td>\n",
       "      <td>0.693147</td>\n",
       "      <td>0.693147</td>\n",
       "      <td>0.916291</td>\n",
       "      <td>...</td>\n",
       "      <td>5.883322</td>\n",
       "      <td>10.308986</td>\n",
       "      <td>10.834125</td>\n",
       "      <td>11.243832</td>\n",
       "      <td>0.693147</td>\n",
       "      <td>2.564949</td>\n",
       "      <td>8.315721</td>\n",
       "      <td>8.276166</td>\n",
       "      <td>2.827902</td>\n",
       "      <td>8.830767</td>\n",
       "    </tr>\n",
       "  </tbody>\n",
       "</table>\n",
       "<p>8 rows × 21 columns</p>\n",
       "</div>"
      ],
      "text/plain": [
       "           BALANCE  BALANCE_FREQUENCY    PURCHASES  ONEOFF_PURCHASES  \\\n",
       "count  8950.000000        8950.000000  8950.000000       8950.000000   \n",
       "mean      6.161637           0.619940     4.899647          3.204274   \n",
       "std       2.013303           0.148590     2.916872          3.246365   \n",
       "min       0.000000           0.000000     0.000000          0.000000   \n",
       "25%       4.861995           0.635989     3.704627          0.000000   \n",
       "50%       6.773521           0.693147     5.892417          3.663562   \n",
       "75%       7.628099           0.693147     7.013133          6.360274   \n",
       "max       9.854515           0.693147    10.800403         10.615512   \n",
       "\n",
       "       INSTALLMENTS_PURCHASES  CASH_ADVANCE  PURCHASES_FREQUENCY  \\\n",
       "count             8950.000000   8950.000000          8950.000000   \n",
       "mean                 3.352403      3.319086             0.361268   \n",
       "std                  3.082973      3.566298             0.277317   \n",
       "min                  0.000000      0.000000             0.000000   \n",
       "25%                  0.000000      0.000000             0.080042   \n",
       "50%                  4.499810      0.000000             0.405465   \n",
       "75%                  6.151961      7.016449             0.650588   \n",
       "max                 10.021315     10.760839             0.693147   \n",
       "\n",
       "       ONEOFF_PURCHASES_FREQUENCY  PURCHASES_INSTALLMENTS_FREQUENCY  \\\n",
       "count                 8950.000000                       8950.000000   \n",
       "mean                     0.158699                          0.270072   \n",
       "std                      0.216672                          0.281852   \n",
       "min                      0.000000                          0.000000   \n",
       "25%                      0.000000                          0.000000   \n",
       "50%                      0.080042                          0.154151   \n",
       "75%                      0.262364                          0.559616   \n",
       "max                      0.693147                          0.693147   \n",
       "\n",
       "       CASH_ADVANCE_FREQUENCY  ...  PURCHASES_TRX  CREDIT_LIMIT     PAYMENTS  \\\n",
       "count             8950.000000  ...    8950.000000   8950.000000  8950.000000   \n",
       "mean                 0.113512  ...       1.894731      8.094825     6.624540   \n",
       "std                  0.156716  ...       1.373856      0.819629     1.591763   \n",
       "min                  0.000000  ...       0.000000      3.931826     0.000000   \n",
       "25%                  0.000000  ...       0.693147      7.378384     5.951361   \n",
       "50%                  0.000000  ...       2.079442      8.006701     6.754489   \n",
       "75%                  0.200671  ...       2.890372      8.779711     7.550732   \n",
       "max                  0.916291  ...       5.883322     10.308986    10.834125   \n",
       "\n",
       "       MINIMUM_PAYMENTS  PRC_FULL_PAYMENT       TENURE  Monthly_avg_purchase  \\\n",
       "count       8950.000000       8950.000000  8950.000000           8950.000000   \n",
       "mean           5.916079          0.117730     2.519680              3.050877   \n",
       "std            1.169929          0.211617     0.130367              2.002823   \n",
       "min            0.018982          0.000000     1.945910              0.000000   \n",
       "25%            5.146667          0.000000     2.564949              1.481458   \n",
       "50%            5.747301          0.000000     2.564949              3.494587   \n",
       "75%            6.671670          0.133531     2.564949              4.587295   \n",
       "max           11.243832          0.693147     2.564949              8.315721   \n",
       "\n",
       "       Monthly_cash_advance  limit_usage  payment_minpay  \n",
       "count           8950.000000  8950.000000     8950.000000  \n",
       "mean               2.163970     0.296081        1.357600  \n",
       "std                2.429741     0.250303        0.940149  \n",
       "min                0.000000     0.000000        0.000000  \n",
       "25%                0.000000     0.040656        0.648817  \n",
       "50%                0.000000     0.264455        1.109459  \n",
       "75%                4.606022     0.540911        1.953415  \n",
       "max                8.276166     2.827902        8.830767  \n",
       "\n",
       "[8 rows x 21 columns]"
      ]
     },
     "execution_count": 47,
     "metadata": {},
     "output_type": "execute_result"
    }
   ],
   "source": [
    "credit_log.describe()"
   ]
  },
  {
   "cell_type": "code",
   "execution_count": 48,
   "metadata": {},
   "outputs": [],
   "source": [
    "col=['BALANCE','PURCHASES','CASH_ADVANCE','TENURE','PAYMENTS','MINIMUM_PAYMENTS','PRC_FULL_PAYMENT','CREDIT_LIMIT']\n",
    "credit_predict=credit_log[[x for x in credit_log.columns if x not in col ]]"
   ]
  },
  {
   "cell_type": "code",
   "execution_count": 49,
   "metadata": {},
   "outputs": [
    {
     "data": {
      "text/plain": [
       "Index(['BALANCE_FREQUENCY', 'ONEOFF_PURCHASES', 'INSTALLMENTS_PURCHASES',\n",
       "       'PURCHASES_FREQUENCY', 'ONEOFF_PURCHASES_FREQUENCY',\n",
       "       'PURCHASES_INSTALLMENTS_FREQUENCY', 'CASH_ADVANCE_FREQUENCY',\n",
       "       'CASH_ADVANCE_TRX', 'PURCHASES_TRX', 'Monthly_avg_purchase',\n",
       "       'Monthly_cash_advance', 'limit_usage', 'payment_minpay'],\n",
       "      dtype='object')"
      ]
     },
     "execution_count": 49,
     "metadata": {},
     "output_type": "execute_result"
    }
   ],
   "source": [
    "credit_predict.columns"
   ]
  },
  {
   "cell_type": "code",
   "execution_count": 50,
   "metadata": {},
   "outputs": [
    {
     "data": {
      "text/plain": [
       "<matplotlib.legend.Legend at 0x1774a9fbc08>"
      ]
     },
     "execution_count": 50,
     "metadata": {},
     "output_type": "execute_result"
    },
    {
     "data": {
      "image/png": "[encoded data removed]",
      "text/plain": [
       "<Figure size 720x576 with 1 Axes>"
      ]
     },
     "metadata": {
      "needs_background": "light"
     },
     "output_type": "display_data"
    }
   ],
   "source": [
    "# Plot the distplot of target\n",
    "plt.figure(figsize=(10,8))\n",
    "bar = sns.distplot(credit_log[\"PAYMENTS\"])\n",
    "bar.legend([\"Skewness: {:.2f}\".format(credit_log['PAYMENTS'].skew())])"
   ]
  },
  {
   "cell_type": "code",
   "execution_count": 51,
   "metadata": {},
   "outputs": [
    {
     "data": {
      "text/plain": [
       "Index(['BALANCE', 'BALANCE_FREQUENCY', 'PURCHASES', 'ONEOFF_PURCHASES',\n",
       "       'INSTALLMENTS_PURCHASES', 'CASH_ADVANCE', 'PURCHASES_FREQUENCY',\n",
       "       'ONEOFF_PURCHASES_FREQUENCY', 'PURCHASES_INSTALLMENTS_FREQUENCY',\n",
       "       'CASH_ADVANCE_FREQUENCY', 'CASH_ADVANCE_TRX', 'PURCHASES_TRX',\n",
       "       'CREDIT_LIMIT', 'PAYMENTS', 'MINIMUM_PAYMENTS', 'PRC_FULL_PAYMENT',\n",
       "       'TENURE', 'Monthly_avg_purchase', 'Monthly_cash_advance', 'limit_usage',\n",
       "       'payment_minpay'],\n",
       "      dtype='object')"
      ]
     },
     "execution_count": 51,
     "metadata": {},
     "output_type": "execute_result"
    }
   ],
   "source": [
    "credit_log.columns"
   ]
  },
  {
   "cell_type": "markdown",
   "metadata": {},
   "source": [
    "# Insights of KPI's"
   ]
  },
  {
   "cell_type": "markdown",
   "metadata": {},
   "source": [
    "# Average payment_minpayment ratio for each purchse type."
   ]
  },
  {
   "cell_type": "code",
   "execution_count": 52,
   "metadata": {},
   "outputs": [
    {
     "data": {
      "text/plain": [
       "array([ 7.23698216, 13.2590037 , 10.08745106,  5.57108156])"
      ]
     },
     "execution_count": 52,
     "metadata": {},
     "output_type": "execute_result"
    }
   ],
   "source": [
    "x=credit.groupby('purchase_type').apply(lambda x: np.mean(x['payment_minpay']))\n",
    "type(x)\n",
    "x.values"
   ]
  },
  {
   "cell_type": "code",
   "execution_count": 53,
   "metadata": {},
   "outputs": [
    {
     "data": {
      "text/plain": [
       "Text(0.5, 1.0, 'Mean payment_minpayment ratio --> None,Installment,One_Off')"
      ]
     },
     "execution_count": 53,
     "metadata": {},
     "output_type": "execute_result"
    },
    {
     "data": {
      "image/png": "[encoded data removed]",
      "text/plain": [
       "<Figure size 432x288 with 1 Axes>"
      ]
     },
     "metadata": {
      "needs_background": "light"
     },
     "output_type": "display_data"
    }
   ],
   "source": [
    "credit.groupby('purchase_type').apply(lambda x: np.mean(x['Monthly_cash_advance'])).plot.barh()\n",
    "\n",
    "plt.title('Mean payment_minpayment ratio --> None,Installment,One_Off')"
   ]
  },
  {
   "cell_type": "code",
   "execution_count": 54,
   "metadata": {},
   "outputs": [
    {
     "data": {
      "text/plain": [
       "Text(0.5, 1.0, 'Mean payment_minpayment ratio for each purchse type')"
      ]
     },
     "execution_count": 54,
     "metadata": {},
     "output_type": "execute_result"
    },
    {
     "data": {
      "image/png": "[encoded data removed]",
      "text/plain": [
       "<Figure size 432x288 with 1 Axes>"
      ]
     },
     "metadata": {
      "needs_background": "light"
     },
     "output_type": "display_data"
    }
   ],
   "source": [
    "fig,ax=plt.subplots()\n",
    "ax.barh(y=range(len(x)), width=x.values,align='center')\n",
    "ax.set(yticks= np.arange(len(x)),yticklabels = x.index);\n",
    "plt.title('Mean payment_minpayment ratio for each purchse type')\n"
   ]
  },
  {
   "cell_type": "code",
   "execution_count": 55,
   "metadata": {},
   "outputs": [
    {
     "data": {
      "text/html": [
       "<div>\n",
       "<style scoped>\n",
       "    .dataframe tbody tr th:only-of-type {\n",
       "        vertical-align: middle;\n",
       "    }\n",
       "\n",
       "    .dataframe tbody tr th {\n",
       "        vertical-align: top;\n",
       "    }\n",
       "\n",
       "    .dataframe thead th {\n",
       "        text-align: right;\n",
       "    }\n",
       "</style>\n",
       "<table border=\"1\" class=\"dataframe\">\n",
       "  <thead>\n",
       "    <tr style=\"text-align: right;\">\n",
       "      <th></th>\n",
       "      <th>BALANCE</th>\n",
       "      <th>BALANCE_FREQUENCY</th>\n",
       "      <th>PURCHASES</th>\n",
       "      <th>ONEOFF_PURCHASES</th>\n",
       "      <th>INSTALLMENTS_PURCHASES</th>\n",
       "      <th>CASH_ADVANCE</th>\n",
       "      <th>PURCHASES_FREQUENCY</th>\n",
       "      <th>ONEOFF_PURCHASES_FREQUENCY</th>\n",
       "      <th>PURCHASES_INSTALLMENTS_FREQUENCY</th>\n",
       "      <th>CASH_ADVANCE_FREQUENCY</th>\n",
       "      <th>...</th>\n",
       "      <th>PURCHASES_TRX</th>\n",
       "      <th>CREDIT_LIMIT</th>\n",
       "      <th>PAYMENTS</th>\n",
       "      <th>MINIMUM_PAYMENTS</th>\n",
       "      <th>PRC_FULL_PAYMENT</th>\n",
       "      <th>TENURE</th>\n",
       "      <th>Monthly_avg_purchase</th>\n",
       "      <th>Monthly_cash_advance</th>\n",
       "      <th>limit_usage</th>\n",
       "      <th>payment_minpay</th>\n",
       "    </tr>\n",
       "  </thead>\n",
       "  <tbody>\n",
       "    <tr>\n",
       "      <th>count</th>\n",
       "      <td>8950.000000</td>\n",
       "      <td>8950.000000</td>\n",
       "      <td>8950.000000</td>\n",
       "      <td>8950.000000</td>\n",
       "      <td>8950.000000</td>\n",
       "      <td>8950.000000</td>\n",
       "      <td>8950.000000</td>\n",
       "      <td>8950.000000</td>\n",
       "      <td>8950.000000</td>\n",
       "      <td>8950.000000</td>\n",
       "      <td>...</td>\n",
       "      <td>8950.000000</td>\n",
       "      <td>8950.000000</td>\n",
       "      <td>8950.000000</td>\n",
       "      <td>8950.000000</td>\n",
       "      <td>8950.000000</td>\n",
       "      <td>8950.000000</td>\n",
       "      <td>8950.000000</td>\n",
       "      <td>8950.000000</td>\n",
       "      <td>8950.000000</td>\n",
       "      <td>8950.000000</td>\n",
       "    </tr>\n",
       "    <tr>\n",
       "      <th>mean</th>\n",
       "      <td>1564.474828</td>\n",
       "      <td>0.877271</td>\n",
       "      <td>1003.204834</td>\n",
       "      <td>592.437371</td>\n",
       "      <td>411.067645</td>\n",
       "      <td>978.871112</td>\n",
       "      <td>0.490351</td>\n",
       "      <td>0.202458</td>\n",
       "      <td>0.364437</td>\n",
       "      <td>0.135144</td>\n",
       "      <td>...</td>\n",
       "      <td>14.709832</td>\n",
       "      <td>4494.282473</td>\n",
       "      <td>1733.143852</td>\n",
       "      <td>844.906767</td>\n",
       "      <td>0.153715</td>\n",
       "      <td>11.517318</td>\n",
       "      <td>86.175173</td>\n",
       "      <td>88.977984</td>\n",
       "      <td>0.388884</td>\n",
       "      <td>9.059164</td>\n",
       "    </tr>\n",
       "    <tr>\n",
       "      <th>std</th>\n",
       "      <td>2081.531879</td>\n",
       "      <td>0.236904</td>\n",
       "      <td>2136.634782</td>\n",
       "      <td>1659.887917</td>\n",
       "      <td>904.338115</td>\n",
       "      <td>2097.163877</td>\n",
       "      <td>0.401371</td>\n",
       "      <td>0.298336</td>\n",
       "      <td>0.397448</td>\n",
       "      <td>0.200121</td>\n",
       "      <td>...</td>\n",
       "      <td>24.857649</td>\n",
       "      <td>3638.646702</td>\n",
       "      <td>2895.063757</td>\n",
       "      <td>2332.792322</td>\n",
       "      <td>0.292499</td>\n",
       "      <td>1.338331</td>\n",
       "      <td>180.508787</td>\n",
       "      <td>193.136115</td>\n",
       "      <td>0.389722</td>\n",
       "      <td>118.180526</td>\n",
       "    </tr>\n",
       "    <tr>\n",
       "      <th>min</th>\n",
       "      <td>0.000000</td>\n",
       "      <td>0.000000</td>\n",
       "      <td>0.000000</td>\n",
       "      <td>0.000000</td>\n",
       "      <td>0.000000</td>\n",
       "      <td>0.000000</td>\n",
       "      <td>0.000000</td>\n",
       "      <td>0.000000</td>\n",
       "      <td>0.000000</td>\n",
       "      <td>0.000000</td>\n",
       "      <td>...</td>\n",
       "      <td>0.000000</td>\n",
       "      <td>50.000000</td>\n",
       "      <td>0.000000</td>\n",
       "      <td>0.019163</td>\n",
       "      <td>0.000000</td>\n",
       "      <td>6.000000</td>\n",
       "      <td>0.000000</td>\n",
       "      <td>0.000000</td>\n",
       "      <td>0.000000</td>\n",
       "      <td>0.000000</td>\n",
       "    </tr>\n",
       "    <tr>\n",
       "      <th>25%</th>\n",
       "      <td>128.281915</td>\n",
       "      <td>0.888889</td>\n",
       "      <td>39.635000</td>\n",
       "      <td>0.000000</td>\n",
       "      <td>0.000000</td>\n",
       "      <td>0.000000</td>\n",
       "      <td>0.083333</td>\n",
       "      <td>0.000000</td>\n",
       "      <td>0.000000</td>\n",
       "      <td>0.000000</td>\n",
       "      <td>...</td>\n",
       "      <td>1.000000</td>\n",
       "      <td>1600.000000</td>\n",
       "      <td>383.276166</td>\n",
       "      <td>170.857654</td>\n",
       "      <td>0.000000</td>\n",
       "      <td>12.000000</td>\n",
       "      <td>3.399375</td>\n",
       "      <td>0.000000</td>\n",
       "      <td>0.041494</td>\n",
       "      <td>0.913275</td>\n",
       "    </tr>\n",
       "    <tr>\n",
       "      <th>50%</th>\n",
       "      <td>873.385231</td>\n",
       "      <td>1.000000</td>\n",
       "      <td>361.280000</td>\n",
       "      <td>38.000000</td>\n",
       "      <td>89.000000</td>\n",
       "      <td>0.000000</td>\n",
       "      <td>0.500000</td>\n",
       "      <td>0.083333</td>\n",
       "      <td>0.166667</td>\n",
       "      <td>0.000000</td>\n",
       "      <td>...</td>\n",
       "      <td>7.000000</td>\n",
       "      <td>3000.000000</td>\n",
       "      <td>856.901546</td>\n",
       "      <td>312.343947</td>\n",
       "      <td>0.000000</td>\n",
       "      <td>12.000000</td>\n",
       "      <td>31.936667</td>\n",
       "      <td>0.000000</td>\n",
       "      <td>0.302720</td>\n",
       "      <td>2.032717</td>\n",
       "    </tr>\n",
       "    <tr>\n",
       "      <th>75%</th>\n",
       "      <td>2054.140036</td>\n",
       "      <td>1.000000</td>\n",
       "      <td>1110.130000</td>\n",
       "      <td>577.405000</td>\n",
       "      <td>468.637500</td>\n",
       "      <td>1113.821139</td>\n",
       "      <td>0.916667</td>\n",
       "      <td>0.300000</td>\n",
       "      <td>0.750000</td>\n",
       "      <td>0.222222</td>\n",
       "      <td>...</td>\n",
       "      <td>17.000000</td>\n",
       "      <td>6500.000000</td>\n",
       "      <td>1901.134317</td>\n",
       "      <td>788.713501</td>\n",
       "      <td>0.142857</td>\n",
       "      <td>12.000000</td>\n",
       "      <td>97.228333</td>\n",
       "      <td>99.085196</td>\n",
       "      <td>0.717571</td>\n",
       "      <td>6.052729</td>\n",
       "    </tr>\n",
       "    <tr>\n",
       "      <th>max</th>\n",
       "      <td>19043.138560</td>\n",
       "      <td>1.000000</td>\n",
       "      <td>49039.570000</td>\n",
       "      <td>40761.250000</td>\n",
       "      <td>22500.000000</td>\n",
       "      <td>47137.211760</td>\n",
       "      <td>1.000000</td>\n",
       "      <td>1.000000</td>\n",
       "      <td>1.000000</td>\n",
       "      <td>1.500000</td>\n",
       "      <td>...</td>\n",
       "      <td>358.000000</td>\n",
       "      <td>30000.000000</td>\n",
       "      <td>50721.483360</td>\n",
       "      <td>76406.207520</td>\n",
       "      <td>1.000000</td>\n",
       "      <td>12.000000</td>\n",
       "      <td>4086.630833</td>\n",
       "      <td>3928.100980</td>\n",
       "      <td>15.909951</td>\n",
       "      <td>6840.528861</td>\n",
       "    </tr>\n",
       "  </tbody>\n",
       "</table>\n",
       "<p>8 rows × 21 columns</p>\n",
       "</div>"
      ],
      "text/plain": [
       "            BALANCE  BALANCE_FREQUENCY     PURCHASES  ONEOFF_PURCHASES  \\\n",
       "count   8950.000000        8950.000000   8950.000000       8950.000000   \n",
       "mean    1564.474828           0.877271   1003.204834        592.437371   \n",
       "std     2081.531879           0.236904   2136.634782       1659.887917   \n",
       "min        0.000000           0.000000      0.000000          0.000000   \n",
       "25%      128.281915           0.888889     39.635000          0.000000   \n",
       "50%      873.385231           1.000000    361.280000         38.000000   \n",
       "75%     2054.140036           1.000000   1110.130000        577.405000   \n",
       "max    19043.138560           1.000000  49039.570000      40761.250000   \n",
       "\n",
       "       INSTALLMENTS_PURCHASES  CASH_ADVANCE  PURCHASES_FREQUENCY  \\\n",
       "count             8950.000000   8950.000000          8950.000000   \n",
       "mean               411.067645    978.871112             0.490351   \n",
       "std                904.338115   2097.163877             0.401371   \n",
       "min                  0.000000      0.000000             0.000000   \n",
       "25%                  0.000000      0.000000             0.083333   \n",
       "50%                 89.000000      0.000000             0.500000   \n",
       "75%                468.637500   1113.821139             0.916667   \n",
       "max              22500.000000  47137.211760             1.000000   \n",
       "\n",
       "       ONEOFF_PURCHASES_FREQUENCY  PURCHASES_INSTALLMENTS_FREQUENCY  \\\n",
       "count                 8950.000000                       8950.000000   \n",
       "mean                     0.202458                          0.364437   \n",
       "std                      0.298336                          0.397448   \n",
       "min                      0.000000                          0.000000   \n",
       "25%                      0.000000                          0.000000   \n",
       "50%                      0.083333                          0.166667   \n",
       "75%                      0.300000                          0.750000   \n",
       "max                      1.000000                          1.000000   \n",
       "\n",
       "       CASH_ADVANCE_FREQUENCY  ...  PURCHASES_TRX  CREDIT_LIMIT      PAYMENTS  \\\n",
       "count             8950.000000  ...    8950.000000   8950.000000   8950.000000   \n",
       "mean                 0.135144  ...      14.709832   4494.282473   1733.143852   \n",
       "std                  0.200121  ...      24.857649   3638.646702   2895.063757   \n",
       "min                  0.000000  ...       0.000000     50.000000      0.000000   \n",
       "25%                  0.000000  ...       1.000000   1600.000000    383.276166   \n",
       "50%                  0.000000  ...       7.000000   3000.000000    856.901546   \n",
       "75%                  0.222222  ...      17.000000   6500.000000   1901.134317   \n",
       "max                  1.500000  ...     358.000000  30000.000000  50721.483360   \n",
       "\n",
       "       MINIMUM_PAYMENTS  PRC_FULL_PAYMENT       TENURE  Monthly_avg_purchase  \\\n",
       "count       8950.000000       8950.000000  8950.000000           8950.000000   \n",
       "mean         844.906767          0.153715    11.517318             86.175173   \n",
       "std         2332.792322          0.292499     1.338331            180.508787   \n",
       "min            0.019163          0.000000     6.000000              0.000000   \n",
       "25%          170.857654          0.000000    12.000000              3.399375   \n",
       "50%          312.343947          0.000000    12.000000             31.936667   \n",
       "75%          788.713501          0.142857    12.000000             97.228333   \n",
       "max        76406.207520          1.000000    12.000000           4086.630833   \n",
       "\n",
       "       Monthly_cash_advance  limit_usage  payment_minpay  \n",
       "count           8950.000000  8950.000000     8950.000000  \n",
       "mean              88.977984     0.388884        9.059164  \n",
       "std              193.136115     0.389722      118.180526  \n",
       "min                0.000000     0.000000        0.000000  \n",
       "25%                0.000000     0.041494        0.913275  \n",
       "50%                0.000000     0.302720        2.032717  \n",
       "75%               99.085196     0.717571        6.052729  \n",
       "max             3928.100980    15.909951     6840.528861  \n",
       "\n",
       "[8 rows x 21 columns]"
      ]
     },
     "execution_count": 55,
     "metadata": {},
     "output_type": "execute_result"
    }
   ],
   "source": [
    "credit.describe()"
   ]
  },
  {
   "cell_type": "markdown",
   "metadata": {},
   "source": [
    "## Customers with installment purchases are paying dues "
   ]
  },
  {
   "cell_type": "code",
   "execution_count": 56,
   "metadata": {},
   "outputs": [
    {
     "data": {
      "text/html": [
       "<div>\n",
       "<style scoped>\n",
       "    .dataframe tbody tr th:only-of-type {\n",
       "        vertical-align: middle;\n",
       "    }\n",
       "\n",
       "    .dataframe tbody tr th {\n",
       "        vertical-align: top;\n",
       "    }\n",
       "\n",
       "    .dataframe thead th {\n",
       "        text-align: right;\n",
       "    }\n",
       "</style>\n",
       "<table border=\"1\" class=\"dataframe\">\n",
       "  <thead>\n",
       "    <tr style=\"text-align: right;\">\n",
       "      <th></th>\n",
       "      <th>CUST_ID</th>\n",
       "      <th>BALANCE</th>\n",
       "      <th>BALANCE_FREQUENCY</th>\n",
       "      <th>PURCHASES</th>\n",
       "      <th>ONEOFF_PURCHASES</th>\n",
       "      <th>INSTALLMENTS_PURCHASES</th>\n",
       "      <th>CASH_ADVANCE</th>\n",
       "      <th>PURCHASES_FREQUENCY</th>\n",
       "      <th>ONEOFF_PURCHASES_FREQUENCY</th>\n",
       "      <th>PURCHASES_INSTALLMENTS_FREQUENCY</th>\n",
       "      <th>...</th>\n",
       "      <th>CREDIT_LIMIT</th>\n",
       "      <th>PAYMENTS</th>\n",
       "      <th>MINIMUM_PAYMENTS</th>\n",
       "      <th>PRC_FULL_PAYMENT</th>\n",
       "      <th>TENURE</th>\n",
       "      <th>Monthly_avg_purchase</th>\n",
       "      <th>Monthly_cash_advance</th>\n",
       "      <th>purchase_type</th>\n",
       "      <th>limit_usage</th>\n",
       "      <th>payment_minpay</th>\n",
       "    </tr>\n",
       "  </thead>\n",
       "  <tbody>\n",
       "  </tbody>\n",
       "</table>\n",
       "<p>0 rows × 23 columns</p>\n",
       "</div>"
      ],
      "text/plain": [
       "Empty DataFrame\n",
       "Columns: [CUST_ID, BALANCE, BALANCE_FREQUENCY, PURCHASES, ONEOFF_PURCHASES, INSTALLMENTS_PURCHASES, CASH_ADVANCE, PURCHASES_FREQUENCY, ONEOFF_PURCHASES_FREQUENCY, PURCHASES_INSTALLMENTS_FREQUENCY, CASH_ADVANCE_FREQUENCY, CASH_ADVANCE_TRX, PURCHASES_TRX, CREDIT_LIMIT, PAYMENTS, MINIMUM_PAYMENTS, PRC_FULL_PAYMENT, TENURE, Monthly_avg_purchase, Monthly_cash_advance, purchase_type, limit_usage, payment_minpay]\n",
       "Index: []\n",
       "\n",
       "[0 rows x 23 columns]"
      ]
     },
     "execution_count": 56,
     "metadata": {},
     "output_type": "execute_result"
    }
   ],
   "source": [
    "credit[credit['purchase_type']=='n']"
   ]
  },
  {
   "cell_type": "code",
   "execution_count": 57,
   "metadata": {},
   "outputs": [
    {
     "data": {
      "text/plain": [
       "Text(0.5, 1.0, 'Average cash in advance taken by customers types--> None,Installment,One_Off,Both')"
      ]
     },
     "execution_count": 57,
     "metadata": {},
     "output_type": "execute_result"
    },
    {
     "data": {
      "image/png": "[encoded data removed]",
      "text/plain": [
       "<Figure size 432x288 with 1 Axes>"
      ]
     },
     "metadata": {
      "needs_background": "light"
     },
     "output_type": "display_data"
    }
   ],
   "source": [
    "credit.groupby('purchase_type').apply(lambda x: np.mean(x['Monthly_cash_advance'])).plot.barh()\n",
    "\n",
    "plt.title('Average cash in advance taken by customers types--> None,Installment,One_Off,Both')"
   ]
  },
  {
   "cell_type": "markdown",
   "metadata": {},
   "source": [
    "#### Customers who don't do either one-off or installment purchases take more cash on advance"
   ]
  },
  {
   "cell_type": "code",
   "execution_count": 58,
   "metadata": {},
   "outputs": [
    {
     "data": {
      "text/plain": [
       "<matplotlib.axes._subplots.AxesSubplot at 0x1774c7c3908>"
      ]
     },
     "execution_count": 58,
     "metadata": {},
     "output_type": "execute_result"
    },
    {
     "data": {
      "image/png": "[encoded data removed]",
      "text/plain": [
       "<Figure size 432x288 with 1 Axes>"
      ]
     },
     "metadata": {
      "needs_background": "light"
     },
     "output_type": "display_data"
    }
   ],
   "source": [
    "credit.groupby('purchase_type').apply(lambda x: np.mean(x['limit_usage'])).plot.barh()"
   ]
  },
  {
   "cell_type": "markdown",
   "metadata": {},
   "source": [
    "### Original dataset with categorical column converted to number type."
   ]
  },
  {
   "cell_type": "code",
   "execution_count": 59,
   "metadata": {},
   "outputs": [],
   "source": [
    "credit_original=pd.concat([credit,pd.get_dummies(credit['purchase_type'])],axis=1)"
   ]
  },
  {
   "cell_type": "code",
   "execution_count": 60,
   "metadata": {},
   "outputs": [
    {
     "data": {
      "text/html": [
       "<div>\n",
       "<style scoped>\n",
       "    .dataframe tbody tr th:only-of-type {\n",
       "        vertical-align: middle;\n",
       "    }\n",
       "\n",
       "    .dataframe tbody tr th {\n",
       "        vertical-align: top;\n",
       "    }\n",
       "\n",
       "    .dataframe thead th {\n",
       "        text-align: right;\n",
       "    }\n",
       "</style>\n",
       "<table border=\"1\" class=\"dataframe\">\n",
       "  <thead>\n",
       "    <tr style=\"text-align: right;\">\n",
       "      <th></th>\n",
       "      <th>CUST_ID</th>\n",
       "      <th>BALANCE</th>\n",
       "      <th>BALANCE_FREQUENCY</th>\n",
       "      <th>PURCHASES</th>\n",
       "      <th>ONEOFF_PURCHASES</th>\n",
       "      <th>INSTALLMENTS_PURCHASES</th>\n",
       "      <th>CASH_ADVANCE</th>\n",
       "      <th>PURCHASES_FREQUENCY</th>\n",
       "      <th>ONEOFF_PURCHASES_FREQUENCY</th>\n",
       "      <th>PURCHASES_INSTALLMENTS_FREQUENCY</th>\n",
       "      <th>...</th>\n",
       "      <th>TENURE</th>\n",
       "      <th>Monthly_avg_purchase</th>\n",
       "      <th>Monthly_cash_advance</th>\n",
       "      <th>purchase_type</th>\n",
       "      <th>limit_usage</th>\n",
       "      <th>payment_minpay</th>\n",
       "      <th>both_oneoff_installment</th>\n",
       "      <th>istallment</th>\n",
       "      <th>none</th>\n",
       "      <th>one_off</th>\n",
       "    </tr>\n",
       "  </thead>\n",
       "  <tbody>\n",
       "    <tr>\n",
       "      <th>0</th>\n",
       "      <td>C10001</td>\n",
       "      <td>40.900749</td>\n",
       "      <td>0.818182</td>\n",
       "      <td>95.40</td>\n",
       "      <td>0.00</td>\n",
       "      <td>95.40</td>\n",
       "      <td>0.000000</td>\n",
       "      <td>0.166667</td>\n",
       "      <td>0.000000</td>\n",
       "      <td>0.083333</td>\n",
       "      <td>...</td>\n",
       "      <td>12</td>\n",
       "      <td>7.950000</td>\n",
       "      <td>0.000000</td>\n",
       "      <td>istallment</td>\n",
       "      <td>0.040901</td>\n",
       "      <td>1.446508</td>\n",
       "      <td>0</td>\n",
       "      <td>1</td>\n",
       "      <td>0</td>\n",
       "      <td>0</td>\n",
       "    </tr>\n",
       "    <tr>\n",
       "      <th>1</th>\n",
       "      <td>C10002</td>\n",
       "      <td>3202.467416</td>\n",
       "      <td>0.909091</td>\n",
       "      <td>0.00</td>\n",
       "      <td>0.00</td>\n",
       "      <td>0.00</td>\n",
       "      <td>6442.945483</td>\n",
       "      <td>0.000000</td>\n",
       "      <td>0.000000</td>\n",
       "      <td>0.000000</td>\n",
       "      <td>...</td>\n",
       "      <td>12</td>\n",
       "      <td>0.000000</td>\n",
       "      <td>536.912124</td>\n",
       "      <td>none</td>\n",
       "      <td>0.457495</td>\n",
       "      <td>3.826241</td>\n",
       "      <td>0</td>\n",
       "      <td>0</td>\n",
       "      <td>1</td>\n",
       "      <td>0</td>\n",
       "    </tr>\n",
       "    <tr>\n",
       "      <th>2</th>\n",
       "      <td>C10003</td>\n",
       "      <td>2495.148862</td>\n",
       "      <td>1.000000</td>\n",
       "      <td>773.17</td>\n",
       "      <td>773.17</td>\n",
       "      <td>0.00</td>\n",
       "      <td>0.000000</td>\n",
       "      <td>1.000000</td>\n",
       "      <td>1.000000</td>\n",
       "      <td>0.000000</td>\n",
       "      <td>...</td>\n",
       "      <td>12</td>\n",
       "      <td>64.430833</td>\n",
       "      <td>0.000000</td>\n",
       "      <td>one_off</td>\n",
       "      <td>0.332687</td>\n",
       "      <td>0.991682</td>\n",
       "      <td>0</td>\n",
       "      <td>0</td>\n",
       "      <td>0</td>\n",
       "      <td>1</td>\n",
       "    </tr>\n",
       "    <tr>\n",
       "      <th>3</th>\n",
       "      <td>C10004</td>\n",
       "      <td>1666.670542</td>\n",
       "      <td>0.636364</td>\n",
       "      <td>1499.00</td>\n",
       "      <td>1499.00</td>\n",
       "      <td>0.00</td>\n",
       "      <td>205.788017</td>\n",
       "      <td>0.083333</td>\n",
       "      <td>0.083333</td>\n",
       "      <td>0.000000</td>\n",
       "      <td>...</td>\n",
       "      <td>12</td>\n",
       "      <td>124.916667</td>\n",
       "      <td>17.149001</td>\n",
       "      <td>one_off</td>\n",
       "      <td>0.222223</td>\n",
       "      <td>0.000000</td>\n",
       "      <td>0</td>\n",
       "      <td>0</td>\n",
       "      <td>0</td>\n",
       "      <td>1</td>\n",
       "    </tr>\n",
       "    <tr>\n",
       "      <th>4</th>\n",
       "      <td>C10005</td>\n",
       "      <td>817.714335</td>\n",
       "      <td>1.000000</td>\n",
       "      <td>16.00</td>\n",
       "      <td>16.00</td>\n",
       "      <td>0.00</td>\n",
       "      <td>0.000000</td>\n",
       "      <td>0.083333</td>\n",
       "      <td>0.083333</td>\n",
       "      <td>0.000000</td>\n",
       "      <td>...</td>\n",
       "      <td>12</td>\n",
       "      <td>1.333333</td>\n",
       "      <td>0.000000</td>\n",
       "      <td>one_off</td>\n",
       "      <td>0.681429</td>\n",
       "      <td>2.771075</td>\n",
       "      <td>0</td>\n",
       "      <td>0</td>\n",
       "      <td>0</td>\n",
       "      <td>1</td>\n",
       "    </tr>\n",
       "    <tr>\n",
       "      <th>...</th>\n",
       "      <td>...</td>\n",
       "      <td>...</td>\n",
       "      <td>...</td>\n",
       "      <td>...</td>\n",
       "      <td>...</td>\n",
       "      <td>...</td>\n",
       "      <td>...</td>\n",
       "      <td>...</td>\n",
       "      <td>...</td>\n",
       "      <td>...</td>\n",
       "      <td>...</td>\n",
       "      <td>...</td>\n",
       "      <td>...</td>\n",
       "      <td>...</td>\n",
       "      <td>...</td>\n",
       "      <td>...</td>\n",
       "      <td>...</td>\n",
       "      <td>...</td>\n",
       "      <td>...</td>\n",
       "      <td>...</td>\n",
       "      <td>...</td>\n",
       "    </tr>\n",
       "    <tr>\n",
       "      <th>8945</th>\n",
       "      <td>C19186</td>\n",
       "      <td>28.493517</td>\n",
       "      <td>1.000000</td>\n",
       "      <td>291.12</td>\n",
       "      <td>0.00</td>\n",
       "      <td>291.12</td>\n",
       "      <td>0.000000</td>\n",
       "      <td>1.000000</td>\n",
       "      <td>0.000000</td>\n",
       "      <td>0.833333</td>\n",
       "      <td>...</td>\n",
       "      <td>6</td>\n",
       "      <td>48.520000</td>\n",
       "      <td>0.000000</td>\n",
       "      <td>istallment</td>\n",
       "      <td>0.028494</td>\n",
       "      <td>6.660231</td>\n",
       "      <td>0</td>\n",
       "      <td>1</td>\n",
       "      <td>0</td>\n",
       "      <td>0</td>\n",
       "    </tr>\n",
       "    <tr>\n",
       "      <th>8946</th>\n",
       "      <td>C19187</td>\n",
       "      <td>19.183215</td>\n",
       "      <td>1.000000</td>\n",
       "      <td>300.00</td>\n",
       "      <td>0.00</td>\n",
       "      <td>300.00</td>\n",
       "      <td>0.000000</td>\n",
       "      <td>1.000000</td>\n",
       "      <td>0.000000</td>\n",
       "      <td>0.833333</td>\n",
       "      <td>...</td>\n",
       "      <td>6</td>\n",
       "      <td>50.000000</td>\n",
       "      <td>0.000000</td>\n",
       "      <td>istallment</td>\n",
       "      <td>0.019183</td>\n",
       "      <td>0.883197</td>\n",
       "      <td>0</td>\n",
       "      <td>1</td>\n",
       "      <td>0</td>\n",
       "      <td>0</td>\n",
       "    </tr>\n",
       "    <tr>\n",
       "      <th>8947</th>\n",
       "      <td>C19188</td>\n",
       "      <td>23.398673</td>\n",
       "      <td>0.833333</td>\n",
       "      <td>144.40</td>\n",
       "      <td>0.00</td>\n",
       "      <td>144.40</td>\n",
       "      <td>0.000000</td>\n",
       "      <td>0.833333</td>\n",
       "      <td>0.000000</td>\n",
       "      <td>0.666667</td>\n",
       "      <td>...</td>\n",
       "      <td>6</td>\n",
       "      <td>24.066667</td>\n",
       "      <td>0.000000</td>\n",
       "      <td>istallment</td>\n",
       "      <td>0.023399</td>\n",
       "      <td>0.986076</td>\n",
       "      <td>0</td>\n",
       "      <td>1</td>\n",
       "      <td>0</td>\n",
       "      <td>0</td>\n",
       "    </tr>\n",
       "    <tr>\n",
       "      <th>8948</th>\n",
       "      <td>C19189</td>\n",
       "      <td>13.457564</td>\n",
       "      <td>0.833333</td>\n",
       "      <td>0.00</td>\n",
       "      <td>0.00</td>\n",
       "      <td>0.00</td>\n",
       "      <td>36.558778</td>\n",
       "      <td>0.000000</td>\n",
       "      <td>0.000000</td>\n",
       "      <td>0.000000</td>\n",
       "      <td>...</td>\n",
       "      <td>6</td>\n",
       "      <td>0.000000</td>\n",
       "      <td>6.093130</td>\n",
       "      <td>none</td>\n",
       "      <td>0.026915</td>\n",
       "      <td>0.942505</td>\n",
       "      <td>0</td>\n",
       "      <td>0</td>\n",
       "      <td>1</td>\n",
       "      <td>0</td>\n",
       "    </tr>\n",
       "    <tr>\n",
       "      <th>8949</th>\n",
       "      <td>C19190</td>\n",
       "      <td>372.708075</td>\n",
       "      <td>0.666667</td>\n",
       "      <td>1093.25</td>\n",
       "      <td>1093.25</td>\n",
       "      <td>0.00</td>\n",
       "      <td>127.040008</td>\n",
       "      <td>0.666667</td>\n",
       "      <td>0.666667</td>\n",
       "      <td>0.000000</td>\n",
       "      <td>...</td>\n",
       "      <td>6</td>\n",
       "      <td>182.208333</td>\n",
       "      <td>21.173335</td>\n",
       "      <td>one_off</td>\n",
       "      <td>0.310590</td>\n",
       "      <td>0.715439</td>\n",
       "      <td>0</td>\n",
       "      <td>0</td>\n",
       "      <td>0</td>\n",
       "      <td>1</td>\n",
       "    </tr>\n",
       "  </tbody>\n",
       "</table>\n",
       "<p>8950 rows × 27 columns</p>\n",
       "</div>"
      ],
      "text/plain": [
       "     CUST_ID      BALANCE  BALANCE_FREQUENCY  PURCHASES  ONEOFF_PURCHASES  \\\n",
       "0     C10001    40.900749           0.818182      95.40              0.00   \n",
       "1     C10002  3202.467416           0.909091       0.00              0.00   \n",
       "2     C10003  2495.148862           1.000000     773.17            773.17   \n",
       "3     C10004  1666.670542           0.636364    1499.00           1499.00   \n",
       "4     C10005   817.714335           1.000000      16.00             16.00   \n",
       "...      ...          ...                ...        ...               ...   \n",
       "8945  C19186    28.493517           1.000000     291.12              0.00   \n",
       "8946  C19187    19.183215           1.000000     300.00              0.00   \n",
       "8947  C19188    23.398673           0.833333     144.40              0.00   \n",
       "8948  C19189    13.457564           0.833333       0.00              0.00   \n",
       "8949  C19190   372.708075           0.666667    1093.25           1093.25   \n",
       "\n",
       "      INSTALLMENTS_PURCHASES  CASH_ADVANCE  PURCHASES_FREQUENCY  \\\n",
       "0                      95.40      0.000000             0.166667   \n",
       "1                       0.00   6442.945483             0.000000   \n",
       "2                       0.00      0.000000             1.000000   \n",
       "3                       0.00    205.788017             0.083333   \n",
       "4                       0.00      0.000000             0.083333   \n",
       "...                      ...           ...                  ...   \n",
       "8945                  291.12      0.000000             1.000000   \n",
       "8946                  300.00      0.000000             1.000000   \n",
       "8947                  144.40      0.000000             0.833333   \n",
       "8948                    0.00     36.558778             0.000000   \n",
       "8949                    0.00    127.040008             0.666667   \n",
       "\n",
       "      ONEOFF_PURCHASES_FREQUENCY  PURCHASES_INSTALLMENTS_FREQUENCY  ...  \\\n",
       "0                       0.000000                          0.083333  ...   \n",
       "1                       0.000000                          0.000000  ...   \n",
       "2                       1.000000                          0.000000  ...   \n",
       "3                       0.083333                          0.000000  ...   \n",
       "4                       0.083333                          0.000000  ...   \n",
       "...                          ...                               ...  ...   \n",
       "8945                    0.000000                          0.833333  ...   \n",
       "8946                    0.000000                          0.833333  ...   \n",
       "8947                    0.000000                          0.666667  ...   \n",
       "8948                    0.000000                          0.000000  ...   \n",
       "8949                    0.666667                          0.000000  ...   \n",
       "\n",
       "      TENURE  Monthly_avg_purchase  Monthly_cash_advance  purchase_type  \\\n",
       "0         12              7.950000              0.000000     istallment   \n",
       "1         12              0.000000            536.912124           none   \n",
       "2         12             64.430833              0.000000        one_off   \n",
       "3         12            124.916667             17.149001        one_off   \n",
       "4         12              1.333333              0.000000        one_off   \n",
       "...      ...                   ...                   ...            ...   \n",
       "8945       6             48.520000              0.000000     istallment   \n",
       "8946       6             50.000000              0.000000     istallment   \n",
       "8947       6             24.066667              0.000000     istallment   \n",
       "8948       6              0.000000              6.093130           none   \n",
       "8949       6            182.208333             21.173335        one_off   \n",
       "\n",
       "      limit_usage  payment_minpay  both_oneoff_installment  istallment  none  \\\n",
       "0        0.040901        1.446508                        0           1     0   \n",
       "1        0.457495        3.826241                        0           0     1   \n",
       "2        0.332687        0.991682                        0           0     0   \n",
       "3        0.222223        0.000000                        0           0     0   \n",
       "4        0.681429        2.771075                        0           0     0   \n",
       "...           ...             ...                      ...         ...   ...   \n",
       "8945     0.028494        6.660231                        0           1     0   \n",
       "8946     0.019183        0.883197                        0           1     0   \n",
       "8947     0.023399        0.986076                        0           1     0   \n",
       "8948     0.026915        0.942505                        0           0     1   \n",
       "8949     0.310590        0.715439                        0           0     0   \n",
       "\n",
       "      one_off  \n",
       "0           0  \n",
       "1           0  \n",
       "2           1  \n",
       "3           1  \n",
       "4           1  \n",
       "...       ...  \n",
       "8945        0  \n",
       "8946        0  \n",
       "8947        0  \n",
       "8948        0  \n",
       "8949        1  \n",
       "\n",
       "[8950 rows x 27 columns]"
      ]
     },
     "execution_count": 60,
     "metadata": {},
     "output_type": "execute_result"
    }
   ],
   "source": [
    "credit_original"
   ]
  },
  {
   "cell_type": "markdown",
   "metadata": {},
   "source": [
    "### ML"
   ]
  },
  {
   "cell_type": "code",
   "execution_count": 61,
   "metadata": {},
   "outputs": [
    {
     "name": "stderr",
     "output_type": "stream",
     "text": [
      "C:\\Users\\Yash\\anaconda3\\lib\\site-packages\\ipykernel_launcher.py:2: SettingWithCopyWarning: \n",
      "A value is trying to be set on a copy of a slice from a DataFrame.\n",
      "Try using .loc[row_indexer,col_indexer] = value instead\n",
      "\n",
      "See the caveats in the documentation: https://pandas.pydata.org/pandas-docs/stable/user_guide/indexing.html#returning-a-view-versus-a-copy\n",
      "  \n"
     ]
    },
    {
     "data": {
      "text/html": [
       "<div>\n",
       "<style scoped>\n",
       "    .dataframe tbody tr th:only-of-type {\n",
       "        vertical-align: middle;\n",
       "    }\n",
       "\n",
       "    .dataframe tbody tr th {\n",
       "        vertical-align: top;\n",
       "    }\n",
       "\n",
       "    .dataframe thead th {\n",
       "        text-align: right;\n",
       "    }\n",
       "</style>\n",
       "<table border=\"1\" class=\"dataframe\">\n",
       "  <thead>\n",
       "    <tr style=\"text-align: right;\">\n",
       "      <th></th>\n",
       "      <th>both_oneoff_installment</th>\n",
       "      <th>istallment</th>\n",
       "      <th>none</th>\n",
       "      <th>one_off</th>\n",
       "    </tr>\n",
       "  </thead>\n",
       "  <tbody>\n",
       "    <tr>\n",
       "      <th>0</th>\n",
       "      <td>0</td>\n",
       "      <td>1</td>\n",
       "      <td>0</td>\n",
       "      <td>0</td>\n",
       "    </tr>\n",
       "    <tr>\n",
       "      <th>1</th>\n",
       "      <td>0</td>\n",
       "      <td>0</td>\n",
       "      <td>1</td>\n",
       "      <td>0</td>\n",
       "    </tr>\n",
       "    <tr>\n",
       "      <th>2</th>\n",
       "      <td>0</td>\n",
       "      <td>0</td>\n",
       "      <td>0</td>\n",
       "      <td>1</td>\n",
       "    </tr>\n",
       "    <tr>\n",
       "      <th>3</th>\n",
       "      <td>0</td>\n",
       "      <td>0</td>\n",
       "      <td>0</td>\n",
       "      <td>1</td>\n",
       "    </tr>\n",
       "    <tr>\n",
       "      <th>4</th>\n",
       "      <td>0</td>\n",
       "      <td>0</td>\n",
       "      <td>0</td>\n",
       "      <td>1</td>\n",
       "    </tr>\n",
       "    <tr>\n",
       "      <th>...</th>\n",
       "      <td>...</td>\n",
       "      <td>...</td>\n",
       "      <td>...</td>\n",
       "      <td>...</td>\n",
       "    </tr>\n",
       "    <tr>\n",
       "      <th>8945</th>\n",
       "      <td>0</td>\n",
       "      <td>1</td>\n",
       "      <td>0</td>\n",
       "      <td>0</td>\n",
       "    </tr>\n",
       "    <tr>\n",
       "      <th>8946</th>\n",
       "      <td>0</td>\n",
       "      <td>1</td>\n",
       "      <td>0</td>\n",
       "      <td>0</td>\n",
       "    </tr>\n",
       "    <tr>\n",
       "      <th>8947</th>\n",
       "      <td>0</td>\n",
       "      <td>1</td>\n",
       "      <td>0</td>\n",
       "      <td>0</td>\n",
       "    </tr>\n",
       "    <tr>\n",
       "      <th>8948</th>\n",
       "      <td>0</td>\n",
       "      <td>0</td>\n",
       "      <td>1</td>\n",
       "      <td>0</td>\n",
       "    </tr>\n",
       "    <tr>\n",
       "      <th>8949</th>\n",
       "      <td>0</td>\n",
       "      <td>0</td>\n",
       "      <td>0</td>\n",
       "      <td>1</td>\n",
       "    </tr>\n",
       "  </tbody>\n",
       "</table>\n",
       "<p>8950 rows × 4 columns</p>\n",
       "</div>"
      ],
      "text/plain": [
       "      both_oneoff_installment  istallment  none  one_off\n",
       "0                           0           1     0        0\n",
       "1                           0           0     1        0\n",
       "2                           0           0     0        1\n",
       "3                           0           0     0        1\n",
       "4                           0           0     0        1\n",
       "...                       ...         ...   ...      ...\n",
       "8945                        0           1     0        0\n",
       "8946                        0           1     0        0\n",
       "8947                        0           1     0        0\n",
       "8948                        0           0     1        0\n",
       "8949                        0           0     0        1\n",
       "\n",
       "[8950 rows x 4 columns]"
      ]
     },
     "execution_count": 61,
     "metadata": {},
     "output_type": "execute_result"
    }
   ],
   "source": [
    "# creating Dummies for categorical variable\n",
    "credit_predict['purchase_type']=credit.loc[:,'purchase_type']\n",
    "pd.get_dummies(credit_predict['purchase_type'])"
   ]
  },
  {
   "cell_type": "code",
   "execution_count": 62,
   "metadata": {},
   "outputs": [],
   "source": [
    "creditdummy=pd.concat([credit_predict,pd.get_dummies(credit_predict['purchase_type'])],axis=1)"
   ]
  },
  {
   "cell_type": "code",
   "execution_count": 63,
   "metadata": {},
   "outputs": [],
   "source": [
    "tab=['purchase_type']"
   ]
  },
  {
   "cell_type": "code",
   "execution_count": 64,
   "metadata": {},
   "outputs": [
    {
     "data": {
      "text/plain": [
       "BALANCE_FREQUENCY                   False\n",
       "ONEOFF_PURCHASES                    False\n",
       "INSTALLMENTS_PURCHASES              False\n",
       "PURCHASES_FREQUENCY                 False\n",
       "ONEOFF_PURCHASES_FREQUENCY          False\n",
       "PURCHASES_INSTALLMENTS_FREQUENCY    False\n",
       "CASH_ADVANCE_FREQUENCY              False\n",
       "CASH_ADVANCE_TRX                    False\n",
       "PURCHASES_TRX                       False\n",
       "Monthly_avg_purchase                False\n",
       "Monthly_cash_advance                False\n",
       "limit_usage                         False\n",
       "payment_minpay                      False\n",
       "both_oneoff_installment             False\n",
       "istallment                          False\n",
       "none                                False\n",
       "one_off                             False\n",
       "dtype: bool"
      ]
     },
     "execution_count": 64,
     "metadata": {},
     "output_type": "execute_result"
    }
   ],
   "source": [
    "creditdummy=creditdummy.drop(tab,axis=1)\n",
    "creditdummy.isnull().any()"
   ]
  },
  {
   "cell_type": "code",
   "execution_count": 65,
   "metadata": {},
   "outputs": [
    {
     "name": "stdout",
     "output_type": "stream",
     "text": [
      "<class 'pandas.core.frame.DataFrame'>\n",
      "RangeIndex: 8950 entries, 0 to 8949\n",
      "Data columns (total 17 columns):\n",
      " #   Column                            Non-Null Count  Dtype  \n",
      "---  ------                            --------------  -----  \n",
      " 0   BALANCE_FREQUENCY                 8950 non-null   float64\n",
      " 1   ONEOFF_PURCHASES                  8950 non-null   float64\n",
      " 2   INSTALLMENTS_PURCHASES            8950 non-null   float64\n",
      " 3   PURCHASES_FREQUENCY               8950 non-null   float64\n",
      " 4   ONEOFF_PURCHASES_FREQUENCY        8950 non-null   float64\n",
      " 5   PURCHASES_INSTALLMENTS_FREQUENCY  8950 non-null   float64\n",
      " 6   CASH_ADVANCE_FREQUENCY            8950 non-null   float64\n",
      " 7   CASH_ADVANCE_TRX                  8950 non-null   float64\n",
      " 8   PURCHASES_TRX                     8950 non-null   float64\n",
      " 9   Monthly_avg_purchase              8950 non-null   float64\n",
      " 10  Monthly_cash_advance              8950 non-null   float64\n",
      " 11  limit_usage                       8950 non-null   float64\n",
      " 12  payment_minpay                    8950 non-null   float64\n",
      " 13  both_oneoff_installment           8950 non-null   uint8  \n",
      " 14  istallment                        8950 non-null   uint8  \n",
      " 15  none                              8950 non-null   uint8  \n",
      " 16  one_off                           8950 non-null   uint8  \n",
      "dtypes: float64(13), uint8(4)\n",
      "memory usage: 944.1 KB\n"
     ]
    }
   ],
   "source": [
    "creditdummy.info()"
   ]
  },
  {
   "cell_type": "code",
   "execution_count": 66,
   "metadata": {},
   "outputs": [
    {
     "data": {
      "text/html": [
       "<div>\n",
       "<style scoped>\n",
       "    .dataframe tbody tr th:only-of-type {\n",
       "        vertical-align: middle;\n",
       "    }\n",
       "\n",
       "    .dataframe tbody tr th {\n",
       "        vertical-align: top;\n",
       "    }\n",
       "\n",
       "    .dataframe thead th {\n",
       "        text-align: right;\n",
       "    }\n",
       "</style>\n",
       "<table border=\"1\" class=\"dataframe\">\n",
       "  <thead>\n",
       "    <tr style=\"text-align: right;\">\n",
       "      <th></th>\n",
       "      <th>BALANCE_FREQUENCY</th>\n",
       "      <th>ONEOFF_PURCHASES</th>\n",
       "      <th>INSTALLMENTS_PURCHASES</th>\n",
       "      <th>PURCHASES_FREQUENCY</th>\n",
       "      <th>ONEOFF_PURCHASES_FREQUENCY</th>\n",
       "      <th>PURCHASES_INSTALLMENTS_FREQUENCY</th>\n",
       "      <th>CASH_ADVANCE_FREQUENCY</th>\n",
       "      <th>CASH_ADVANCE_TRX</th>\n",
       "      <th>PURCHASES_TRX</th>\n",
       "      <th>Monthly_avg_purchase</th>\n",
       "      <th>Monthly_cash_advance</th>\n",
       "      <th>limit_usage</th>\n",
       "      <th>payment_minpay</th>\n",
       "      <th>both_oneoff_installment</th>\n",
       "      <th>istallment</th>\n",
       "      <th>none</th>\n",
       "      <th>one_off</th>\n",
       "    </tr>\n",
       "  </thead>\n",
       "  <tbody>\n",
       "    <tr>\n",
       "      <th>0</th>\n",
       "      <td>0.597837</td>\n",
       "      <td>0.000000</td>\n",
       "      <td>4.568506</td>\n",
       "      <td>0.154151</td>\n",
       "      <td>0.000000</td>\n",
       "      <td>0.080042</td>\n",
       "      <td>0.000000</td>\n",
       "      <td>0.000000</td>\n",
       "      <td>1.098612</td>\n",
       "      <td>2.191654</td>\n",
       "      <td>0.000000</td>\n",
       "      <td>0.040086</td>\n",
       "      <td>0.894662</td>\n",
       "      <td>0</td>\n",
       "      <td>1</td>\n",
       "      <td>0</td>\n",
       "      <td>0</td>\n",
       "    </tr>\n",
       "    <tr>\n",
       "      <th>1</th>\n",
       "      <td>0.646627</td>\n",
       "      <td>0.000000</td>\n",
       "      <td>0.000000</td>\n",
       "      <td>0.000000</td>\n",
       "      <td>0.000000</td>\n",
       "      <td>0.000000</td>\n",
       "      <td>0.223144</td>\n",
       "      <td>1.609438</td>\n",
       "      <td>0.000000</td>\n",
       "      <td>0.000000</td>\n",
       "      <td>6.287695</td>\n",
       "      <td>0.376719</td>\n",
       "      <td>1.574068</td>\n",
       "      <td>0</td>\n",
       "      <td>0</td>\n",
       "      <td>1</td>\n",
       "      <td>0</td>\n",
       "    </tr>\n",
       "    <tr>\n",
       "      <th>2</th>\n",
       "      <td>0.693147</td>\n",
       "      <td>6.651791</td>\n",
       "      <td>0.000000</td>\n",
       "      <td>0.693147</td>\n",
       "      <td>0.693147</td>\n",
       "      <td>0.000000</td>\n",
       "      <td>0.000000</td>\n",
       "      <td>0.000000</td>\n",
       "      <td>2.564949</td>\n",
       "      <td>4.180994</td>\n",
       "      <td>0.000000</td>\n",
       "      <td>0.287197</td>\n",
       "      <td>0.688979</td>\n",
       "      <td>0</td>\n",
       "      <td>0</td>\n",
       "      <td>0</td>\n",
       "      <td>1</td>\n",
       "    </tr>\n",
       "    <tr>\n",
       "      <th>3</th>\n",
       "      <td>0.492477</td>\n",
       "      <td>7.313220</td>\n",
       "      <td>0.000000</td>\n",
       "      <td>0.080042</td>\n",
       "      <td>0.080042</td>\n",
       "      <td>0.000000</td>\n",
       "      <td>0.080042</td>\n",
       "      <td>0.693147</td>\n",
       "      <td>0.693147</td>\n",
       "      <td>4.835620</td>\n",
       "      <td>2.898616</td>\n",
       "      <td>0.200671</td>\n",
       "      <td>0.000000</td>\n",
       "      <td>0</td>\n",
       "      <td>0</td>\n",
       "      <td>0</td>\n",
       "      <td>1</td>\n",
       "    </tr>\n",
       "    <tr>\n",
       "      <th>4</th>\n",
       "      <td>0.693147</td>\n",
       "      <td>2.833213</td>\n",
       "      <td>0.000000</td>\n",
       "      <td>0.080042</td>\n",
       "      <td>0.080042</td>\n",
       "      <td>0.000000</td>\n",
       "      <td>0.000000</td>\n",
       "      <td>0.000000</td>\n",
       "      <td>0.693147</td>\n",
       "      <td>0.847298</td>\n",
       "      <td>0.000000</td>\n",
       "      <td>0.519644</td>\n",
       "      <td>1.327360</td>\n",
       "      <td>0</td>\n",
       "      <td>0</td>\n",
       "      <td>0</td>\n",
       "      <td>1</td>\n",
       "    </tr>\n",
       "  </tbody>\n",
       "</table>\n",
       "</div>"
      ],
      "text/plain": [
       "   BALANCE_FREQUENCY  ONEOFF_PURCHASES  INSTALLMENTS_PURCHASES  \\\n",
       "0           0.597837          0.000000                4.568506   \n",
       "1           0.646627          0.000000                0.000000   \n",
       "2           0.693147          6.651791                0.000000   \n",
       "3           0.492477          7.313220                0.000000   \n",
       "4           0.693147          2.833213                0.000000   \n",
       "\n",
       "   PURCHASES_FREQUENCY  ONEOFF_PURCHASES_FREQUENCY  \\\n",
       "0             0.154151                    0.000000   \n",
       "1             0.000000                    0.000000   \n",
       "2             0.693147                    0.693147   \n",
       "3             0.080042                    0.080042   \n",
       "4             0.080042                    0.080042   \n",
       "\n",
       "   PURCHASES_INSTALLMENTS_FREQUENCY  CASH_ADVANCE_FREQUENCY  CASH_ADVANCE_TRX  \\\n",
       "0                          0.080042                0.000000          0.000000   \n",
       "1                          0.000000                0.223144          1.609438   \n",
       "2                          0.000000                0.000000          0.000000   \n",
       "3                          0.000000                0.080042          0.693147   \n",
       "4                          0.000000                0.000000          0.000000   \n",
       "\n",
       "   PURCHASES_TRX  Monthly_avg_purchase  Monthly_cash_advance  limit_usage  \\\n",
       "0       1.098612              2.191654              0.000000     0.040086   \n",
       "1       0.000000              0.000000              6.287695     0.376719   \n",
       "2       2.564949              4.180994              0.000000     0.287197   \n",
       "3       0.693147              4.835620              2.898616     0.200671   \n",
       "4       0.693147              0.847298              0.000000     0.519644   \n",
       "\n",
       "   payment_minpay  both_oneoff_installment  istallment  none  one_off  \n",
       "0        0.894662                        0           1     0        0  \n",
       "1        1.574068                        0           0     1        0  \n",
       "2        0.688979                        0           0     0        1  \n",
       "3        0.000000                        0           0     0        1  \n",
       "4        1.327360                        0           0     0        1  "
      ]
     },
     "execution_count": 66,
     "metadata": {},
     "output_type": "execute_result"
    }
   ],
   "source": [
    "creditdummy.head()"
   ]
  },
  {
   "cell_type": "code",
   "execution_count": 67,
   "metadata": {},
   "outputs": [
    {
     "data": {
      "text/plain": [
       "<matplotlib.axes._subplots.AxesSubplot at 0x1774c80e348>"
      ]
     },
     "execution_count": 67,
     "metadata": {},
     "output_type": "execute_result"
    },
    {
     "data": {
      "image/png": "[encoded data removed]",
      "text/plain": [
       "<Figure size 432x288 with 2 Axes>"
      ]
     },
     "metadata": {
      "needs_background": "light"
     },
     "output_type": "display_data"
    }
   ],
   "source": [
    "sns.heatmap(creditdummy.corr())"
   ]
  },
  {
   "cell_type": "markdown",
   "metadata": {},
   "source": [
    "## Standardrizing data \n"
   ]
  },
  {
   "cell_type": "code",
   "execution_count": 68,
   "metadata": {},
   "outputs": [],
   "source": [
    "from sklearn.preprocessing import  StandardScaler"
   ]
  },
  {
   "cell_type": "code",
   "execution_count": 69,
   "metadata": {},
   "outputs": [],
   "source": [
    "sc=StandardScaler()"
   ]
  },
  {
   "cell_type": "code",
   "execution_count": 70,
   "metadata": {},
   "outputs": [
    {
     "data": {
      "text/plain": [
       "(8950, 17)"
      ]
     },
     "execution_count": 70,
     "metadata": {},
     "output_type": "execute_result"
    }
   ],
   "source": [
    "creditdummy.shape"
   ]
  },
  {
   "cell_type": "code",
   "execution_count": 71,
   "metadata": {},
   "outputs": [],
   "source": [
    "creditscaled=sc.fit_transform(creditdummy)"
   ]
  },
  {
   "cell_type": "code",
   "execution_count": 72,
   "metadata": {},
   "outputs": [
    {
     "data": {
      "text/plain": [
       "array([[-0.14875746, -0.98708958,  0.39447984, ...,  1.72051649,\n",
       "        -0.54369045, -0.514625  ],\n",
       "       [ 0.17961568, -0.98708958, -1.08745376, ..., -0.58122082,\n",
       "         1.83928189, -0.514625  ],\n",
       "       [ 0.49271003,  1.06202168, -1.08745376, ..., -0.58122082,\n",
       "        -0.54369045,  1.94316249],\n",
       "       ...,\n",
       "       [-0.09290575, -0.98708958,  0.52779444, ...,  1.72051649,\n",
       "        -0.54369045, -0.514625  ],\n",
       "       [-0.09290575, -0.98708958, -1.08745376, ..., -0.58122082,\n",
       "         1.83928189, -0.514625  ],\n",
       "       [-0.73437135,  1.16861854, -1.08745376, ..., -0.58122082,\n",
       "        -0.54369045,  1.94316249]])"
      ]
     },
     "execution_count": 72,
     "metadata": {},
     "output_type": "execute_result"
    }
   ],
   "source": [
    "creditscaled"
   ]
  },
  {
   "cell_type": "code",
   "execution_count": null,
   "metadata": {},
   "outputs": [],
   "source": []
  },
  {
   "cell_type": "markdown",
   "metadata": {},
   "source": [
    "# PCA"
   ]
  },
  {
   "cell_type": "code",
   "execution_count": 73,
   "metadata": {},
   "outputs": [],
   "source": [
    "from sklearn.preprocessing import StandardScaler\n",
    "sc=StandardScaler()\n",
    "df_scaled=sc.fit_transform(creditscaled)"
   ]
  },
  {
   "cell_type": "code",
   "execution_count": 74,
   "metadata": {},
   "outputs": [
    {
     "data": {
      "text/plain": [
       "array([[-0.14875746, -0.98708958,  0.39447984, ...,  1.72051649,\n",
       "        -0.54369045, -0.514625  ],\n",
       "       [ 0.17961568, -0.98708958, -1.08745376, ..., -0.58122082,\n",
       "         1.83928189, -0.514625  ],\n",
       "       [ 0.49271003,  1.06202168, -1.08745376, ..., -0.58122082,\n",
       "        -0.54369045,  1.94316249],\n",
       "       ...,\n",
       "       [-0.09290575, -0.98708958,  0.52779444, ...,  1.72051649,\n",
       "        -0.54369045, -0.514625  ],\n",
       "       [-0.09290575, -0.98708958, -1.08745376, ..., -0.58122082,\n",
       "         1.83928189, -0.514625  ],\n",
       "       [-0.73437135,  1.16861854, -1.08745376, ..., -0.58122082,\n",
       "        -0.54369045,  1.94316249]])"
      ]
     },
     "execution_count": 74,
     "metadata": {},
     "output_type": "execute_result"
    }
   ],
   "source": [
    "df_scaled"
   ]
  },
  {
   "cell_type": "code",
   "execution_count": 75,
   "metadata": {},
   "outputs": [],
   "source": [
    "from sklearn.decomposition import PCA"
   ]
  },
  {
   "cell_type": "code",
   "execution_count": 77,
   "metadata": {},
   "outputs": [],
   "source": [
    "var_ratio={}\n",
    "for n in range(2,18):\n",
    "    pc=PCA(n_components=n)\n",
    "    credit_pca=pc.fit(creditscaled)\n",
    "    var_ratio[n]=sum(credit_pca.explained_variance_ratio_)"
   ]
  },
  {
   "cell_type": "code",
   "execution_count": 78,
   "metadata": {},
   "outputs": [
    {
     "data": {
      "text/plain": [
       "{2: 0.5826439793960291,\n",
       " 3: 0.7299379309512699,\n",
       " 4: 0.8115442762351268,\n",
       " 5: 0.8770555795291437,\n",
       " 6: 0.9186492443512612,\n",
       " 7: 0.9410925256030133,\n",
       " 8: 0.9616114053683068,\n",
       " 9: 0.9739787081990646,\n",
       " 10: 0.9835896584630702,\n",
       " 11: 0.9897248107341958,\n",
       " 12: 0.9927550009135231,\n",
       " 13: 0.9953907562385418,\n",
       " 14: 0.9979616898169592,\n",
       " 15: 0.9996360473172953,\n",
       " 16: 0.9999999999999998,\n",
       " 17: 0.9999999999999998}"
      ]
     },
     "execution_count": 78,
     "metadata": {},
     "output_type": "execute_result"
    }
   ],
   "source": [
    "var_ratio"
   ]
  },
  {
   "cell_type": "code",
   "execution_count": 79,
   "metadata": {},
   "outputs": [
    {
     "data": {
      "text/plain": [
       "<matplotlib.axes._subplots.AxesSubplot at 0x1774fa70148>"
      ]
     },
     "execution_count": 79,
     "metadata": {},
     "output_type": "execute_result"
    },
    {
     "data": {
      "image/png": "[encoded data removed]",
      "text/plain": [
       "<Figure size 432x288 with 1 Axes>"
      ]
     },
     "metadata": {
      "needs_background": "light"
     },
     "output_type": "display_data"
    }
   ],
   "source": [
    "pd.Series(var_ratio).plot()"
   ]
  },
  {
   "cell_type": "code",
   "execution_count": 80,
   "metadata": {},
   "outputs": [
    {
     "data": {
      "text/plain": [
       "{2: 0.5826439793960291,\n",
       " 3: 0.7299379309512699,\n",
       " 4: 0.8115442762351268,\n",
       " 5: 0.8770555795291437,\n",
       " 6: 0.9186492443512612,\n",
       " 7: 0.9410925256030133,\n",
       " 8: 0.9616114053683068,\n",
       " 9: 0.9739787081990646,\n",
       " 10: 0.9835896584630702,\n",
       " 11: 0.9897248107341958,\n",
       " 12: 0.9927550009135231,\n",
       " 13: 0.9953907562385418,\n",
       " 14: 0.9979616898169592,\n",
       " 15: 0.9996360473172953,\n",
       " 16: 0.9999999999999998,\n",
       " 17: 0.9999999999999998}"
      ]
     },
     "execution_count": 80,
     "metadata": {},
     "output_type": "execute_result"
    }
   ],
   "source": [
    "var_ratio"
   ]
  },
  {
   "cell_type": "code",
   "execution_count": 83,
   "metadata": {},
   "outputs": [],
   "source": [
    "df_pca_final=PCA(n_components=7)\n",
    "df2=df_pca_final.fit_transform(creditscaled)"
   ]
  },
  {
   "cell_type": "code",
   "execution_count": 84,
   "metadata": {
    "scrolled": true
   },
   "outputs": [
    {
     "data": {
      "text/plain": [
       "array([[-2.42840830e-01, -2.75966826e+00,  3.43061432e-01, ...,\n",
       "        -7.10010678e-03,  1.97545848e-02, -1.89501836e-01],\n",
       "       [-3.97565157e+00,  1.44625172e-01, -5.42989342e-01, ...,\n",
       "        -4.28929181e-01, -5.72463497e-01, -9.80056186e-02],\n",
       "       [ 1.28739573e+00,  1.50893846e+00,  2.70996571e+00, ...,\n",
       "         1.08087208e-02, -5.99931897e-01, -1.54952159e+00],\n",
       "       ...,\n",
       "       [ 1.15635917e+00, -2.79886435e+00, -5.36306171e-01, ...,\n",
       "         3.25711380e-01,  1.93607315e-03, -7.49827906e-01],\n",
       "       [-3.24994984e+00, -1.01563269e+00,  4.73838046e-01, ...,\n",
       "        -1.12520250e+00, -3.79504564e-02, -1.17268758e+00],\n",
       "       [ 2.38813534e-01,  2.22337787e+00,  1.83957974e+00, ...,\n",
       "         1.74565743e+00,  7.80319412e-01, -1.21283695e+00]])"
      ]
     },
     "execution_count": 84,
     "metadata": {},
     "output_type": "execute_result"
    }
   ],
   "source": [
    "df2"
   ]
  },
  {
   "cell_type": "code",
   "execution_count": 85,
   "metadata": {},
   "outputs": [],
   "source": [
    "df2_dframe=pd.DataFrame(df2)"
   ]
  },
  {
   "cell_type": "code",
   "execution_count": 86,
   "metadata": {},
   "outputs": [
    {
     "data": {
      "text/html": [
       "<div>\n",
       "<style scoped>\n",
       "    .dataframe tbody tr th:only-of-type {\n",
       "        vertical-align: middle;\n",
       "    }\n",
       "\n",
       "    .dataframe tbody tr th {\n",
       "        vertical-align: top;\n",
       "    }\n",
       "\n",
       "    .dataframe thead th {\n",
       "        text-align: right;\n",
       "    }\n",
       "</style>\n",
       "<table border=\"1\" class=\"dataframe\">\n",
       "  <thead>\n",
       "    <tr style=\"text-align: right;\">\n",
       "      <th></th>\n",
       "      <th>0</th>\n",
       "      <th>1</th>\n",
       "      <th>2</th>\n",
       "      <th>3</th>\n",
       "      <th>4</th>\n",
       "      <th>5</th>\n",
       "      <th>6</th>\n",
       "    </tr>\n",
       "  </thead>\n",
       "  <tbody>\n",
       "    <tr>\n",
       "      <th>0</th>\n",
       "      <td>-0.242841</td>\n",
       "      <td>-2.759668</td>\n",
       "      <td>0.343061</td>\n",
       "      <td>-0.417359</td>\n",
       "      <td>-0.007100</td>\n",
       "      <td>0.019755</td>\n",
       "      <td>-0.189502</td>\n",
       "    </tr>\n",
       "    <tr>\n",
       "      <th>1</th>\n",
       "      <td>-3.975652</td>\n",
       "      <td>0.144625</td>\n",
       "      <td>-0.542989</td>\n",
       "      <td>1.023832</td>\n",
       "      <td>-0.428929</td>\n",
       "      <td>-0.572463</td>\n",
       "      <td>-0.098006</td>\n",
       "    </tr>\n",
       "    <tr>\n",
       "      <th>2</th>\n",
       "      <td>1.287396</td>\n",
       "      <td>1.508938</td>\n",
       "      <td>2.709966</td>\n",
       "      <td>-1.892252</td>\n",
       "      <td>0.010809</td>\n",
       "      <td>-0.599932</td>\n",
       "      <td>-1.549522</td>\n",
       "    </tr>\n",
       "    <tr>\n",
       "      <th>3</th>\n",
       "      <td>-1.047613</td>\n",
       "      <td>0.673103</td>\n",
       "      <td>2.501794</td>\n",
       "      <td>-1.306784</td>\n",
       "      <td>0.761348</td>\n",
       "      <td>1.408986</td>\n",
       "      <td>0.092203</td>\n",
       "    </tr>\n",
       "    <tr>\n",
       "      <th>4</th>\n",
       "      <td>-1.451586</td>\n",
       "      <td>-0.176336</td>\n",
       "      <td>2.286074</td>\n",
       "      <td>-1.624896</td>\n",
       "      <td>-0.561969</td>\n",
       "      <td>-0.675214</td>\n",
       "      <td>0.981584</td>\n",
       "    </tr>\n",
       "  </tbody>\n",
       "</table>\n",
       "</div>"
      ],
      "text/plain": [
       "          0         1         2         3         4         5         6\n",
       "0 -0.242841 -2.759668  0.343061 -0.417359 -0.007100  0.019755 -0.189502\n",
       "1 -3.975652  0.144625 -0.542989  1.023832 -0.428929 -0.572463 -0.098006\n",
       "2  1.287396  1.508938  2.709966 -1.892252  0.010809 -0.599932 -1.549522\n",
       "3 -1.047613  0.673103  2.501794 -1.306784  0.761348  1.408986  0.092203\n",
       "4 -1.451586 -0.176336  2.286074 -1.624896 -0.561969 -0.675214  0.981584"
      ]
     },
     "execution_count": 86,
     "metadata": {},
     "output_type": "execute_result"
    }
   ],
   "source": [
    "df2_dframe.head()"
   ]
  },
  {
   "cell_type": "code",
   "execution_count": 87,
   "metadata": {},
   "outputs": [
    {
     "data": {
      "text/plain": [
       "(8950, 7)"
      ]
     },
     "execution_count": 87,
     "metadata": {},
     "output_type": "execute_result"
    }
   ],
   "source": [
    "df2_dframe.shape"
   ]
  },
  {
   "cell_type": "markdown",
   "metadata": {},
   "source": [
    "# K-Means"
   ]
  },
  {
   "cell_type": "code",
   "execution_count": 88,
   "metadata": {},
   "outputs": [],
   "source": [
    "from sklearn.cluster import KMeans"
   ]
  },
  {
   "cell_type": "code",
   "execution_count": 89,
   "metadata": {},
   "outputs": [],
   "source": [
    "distortions=[]\n",
    "K=range(1,10)\n",
    "for k in K:\n",
    "    kmean_model=KMeans(n_clusters=k)\n",
    "    kmean_model.fit(df2)\n",
    "    distortions.append(kmean_model.inertia_)"
   ]
  },
  {
   "cell_type": "code",
   "execution_count": 90,
   "metadata": {},
   "outputs": [
    {
     "data": {
      "text/plain": [
       "[143187.22777049805,\n",
       " 96738.2435150017,\n",
       " 74155.33505194493,\n",
       " 52785.91789264243,\n",
       " 45887.555568434764,\n",
       " 41034.49101351884,\n",
       " 37444.021381570354,\n",
       " 34643.94555877331,\n",
       " 32149.64292196862]"
      ]
     },
     "execution_count": 90,
     "metadata": {},
     "output_type": "execute_result"
    }
   ],
   "source": [
    "distortions"
   ]
  },
  {
   "cell_type": "code",
   "execution_count": 91,
   "metadata": {},
   "outputs": [
    {
     "data": {
      "text/plain": [
       "[<matplotlib.lines.Line2D at 0x1774fb1cf88>]"
      ]
     },
     "execution_count": 91,
     "metadata": {},
     "output_type": "execute_result"
    },
    {
     "data": {
      "image/png": "[encoded data removed]",
      "text/plain": [
       "<Figure size 432x288 with 1 Axes>"
      ]
     },
     "metadata": {
      "needs_background": "light"
     },
     "output_type": "display_data"
    }
   ],
   "source": [
    "plt.plot(K,distortions)"
   ]
  },
  {
   "cell_type": "code",
   "execution_count": null,
   "metadata": {},
   "outputs": [],
   "source": []
  },
  {
   "cell_type": "markdown",
   "metadata": {},
   "source": [
    "# 4 clusters"
   ]
  },
  {
   "cell_type": "code",
   "execution_count": 92,
   "metadata": {},
   "outputs": [
    {
     "data": {
      "text/plain": [
       "KMeans(n_clusters=4, random_state=112)"
      ]
     },
     "execution_count": 92,
     "metadata": {},
     "output_type": "execute_result"
    }
   ],
   "source": [
    "km_4=KMeans(n_clusters=4,random_state=112)\n",
    "km_4.fit(df2)"
   ]
  },
  {
   "cell_type": "code",
   "execution_count": 93,
   "metadata": {},
   "outputs": [
    {
     "data": {
      "text/plain": [
       "2    2769\n",
       "1    2228\n",
       "0    2083\n",
       "3    1870\n",
       "dtype: int64"
      ]
     },
     "execution_count": 93,
     "metadata": {},
     "output_type": "execute_result"
    }
   ],
   "source": [
    "\n",
    "pd.Series(km_4.labels_).value_counts()"
   ]
  },
  {
   "cell_type": "code",
   "execution_count": 94,
   "metadata": {},
   "outputs": [
    {
     "data": {
      "text/plain": [
       "<matplotlib.collections.PathCollection at 0x17750b9f9c8>"
      ]
     },
     "execution_count": 94,
     "metadata": {},
     "output_type": "execute_result"
    },
    {
     "data": {
      "image/png": "[encoded data removed]",
      "text/plain": [
       "<Figure size 504x504 with 1 Axes>"
      ]
     },
     "metadata": {
      "needs_background": "light"
     },
     "output_type": "display_data"
    }
   ],
   "source": [
    "color_map={0:'r',1:'b',2:'g',3:'y'}\n",
    "label_color=[color_map[l] for l in km_4.labels_]\n",
    "plt.figure(figsize=(7,7))\n",
    "plt.scatter(df2[:,0],df2[:,1],c=label_color)"
   ]
  },
  {
   "cell_type": "code",
   "execution_count": 95,
   "metadata": {},
   "outputs": [
    {
     "data": {
      "text/plain": [
       "0.4218512845958619"
      ]
     },
     "execution_count": 95,
     "metadata": {},
     "output_type": "execute_result"
    }
   ],
   "source": [
    "silhouette_score(df2,km_4.labels_)"
   ]
  },
  {
   "cell_type": "code",
   "execution_count": null,
   "metadata": {},
   "outputs": [],
   "source": []
  },
  {
   "cell_type": "markdown",
   "metadata": {},
   "source": [
    "# 5 clusters"
   ]
  },
  {
   "cell_type": "code",
   "execution_count": 96,
   "metadata": {},
   "outputs": [
    {
     "data": {
      "text/plain": [
       "KMeans(n_clusters=5, random_state=112)"
      ]
     },
     "execution_count": 96,
     "metadata": {},
     "output_type": "execute_result"
    }
   ],
   "source": [
    "km_5=KMeans(n_clusters=5,random_state=112)\n",
    "km_5.fit(df2)"
   ]
  },
  {
   "cell_type": "code",
   "execution_count": 97,
   "metadata": {},
   "outputs": [
    {
     "data": {
      "text/plain": [
       "array([3, 1, 2, ..., 3, 1, 2])"
      ]
     },
     "execution_count": 97,
     "metadata": {},
     "output_type": "execute_result"
    }
   ],
   "source": [
    "km_5.labels_"
   ]
  },
  {
   "cell_type": "code",
   "execution_count": 98,
   "metadata": {},
   "outputs": [
    {
     "data": {
      "text/plain": [
       "array([[ 2.96293574,  0.78404599,  0.04471313,  0.59290808, -0.96334415,\n",
       "         0.11147342,  0.08045117],\n",
       "       [-3.87248916, -0.03018724, -0.47006096,  0.60312749, -0.65757973,\n",
       "        -0.22454076, -0.14789366],\n",
       "       [-0.54406259,  0.97933496,  2.31719379, -0.91033239,  0.76487217,\n",
       "        -0.07684694,  0.05890766],\n",
       "       [ 1.07508464, -2.46575033, -0.78541127, -0.44683417,  0.59162887,\n",
       "        -0.11374428, -0.02683174],\n",
       "       [ 1.01786424,  2.22685239, -1.97124992,  0.25496566,  0.65695637,\n",
       "         0.71565961,  0.10865694]])"
      ]
     },
     "execution_count": 98,
     "metadata": {},
     "output_type": "execute_result"
    }
   ],
   "source": [
    "km_5.cluster_centers_"
   ]
  },
  {
   "cell_type": "code",
   "execution_count": 99,
   "metadata": {},
   "outputs": [
    {
     "data": {
      "text/plain": [
       "3    2145\n",
       "1    2080\n",
       "0    1977\n",
       "2    1863\n",
       "4     885\n",
       "dtype: int64"
      ]
     },
     "execution_count": 99,
     "metadata": {},
     "output_type": "execute_result"
    }
   ],
   "source": [
    "\n",
    "pd.Series(km_5.labels_).value_counts()"
   ]
  },
  {
   "cell_type": "code",
   "execution_count": 100,
   "metadata": {},
   "outputs": [
    {
     "data": {
      "text/plain": [
       "<matplotlib.collections.PathCollection at 0x17750c08888>"
      ]
     },
     "execution_count": 100,
     "metadata": {},
     "output_type": "execute_result"
    },
    {
     "data": {
      "image/png": "[encoded data removed]",
      "text/plain": [
       "<Figure size 504x504 with 1 Axes>"
      ]
     },
     "metadata": {
      "needs_background": "light"
     },
     "output_type": "display_data"
    }
   ],
   "source": [
    "color_map={0:'r',1:'b',2:'g',3:'y',4:'k'}\n",
    "label_color=[color_map[l] for l in km_5.labels_]\n",
    "plt.figure(figsize=(7,7))\n",
    "plt.scatter(df2[:,0],df2[:,1],c=label_color)"
   ]
  },
  {
   "cell_type": "code",
   "execution_count": null,
   "metadata": {
    "scrolled": true
   },
   "outputs": [],
   "source": []
  },
  {
   "cell_type": "code",
   "execution_count": 101,
   "metadata": {},
   "outputs": [
    {
     "data": {
      "text/plain": [
       "4741.74824907495"
      ]
     },
     "execution_count": 101,
     "metadata": {},
     "output_type": "execute_result"
    }
   ],
   "source": [
    "calinski_harabasz_score(df2,km_5.labels_)"
   ]
  },
  {
   "cell_type": "code",
   "execution_count": 102,
   "metadata": {},
   "outputs": [
    {
     "data": {
      "text/plain": [
       "0.4140159185468678"
      ]
     },
     "execution_count": 102,
     "metadata": {},
     "output_type": "execute_result"
    }
   ],
   "source": [
    "silhouette_score(df2,km_5.labels_)"
   ]
  },
  {
   "cell_type": "markdown",
   "metadata": {},
   "source": [
    "# 6 clusters"
   ]
  },
  {
   "cell_type": "code",
   "execution_count": 103,
   "metadata": {},
   "outputs": [
    {
     "data": {
      "text/plain": [
       "KMeans(n_clusters=6, random_state=112)"
      ]
     },
     "execution_count": 103,
     "metadata": {},
     "output_type": "execute_result"
    }
   ],
   "source": [
    "km_6=KMeans(n_clusters=6,random_state=112)\n",
    "km_6.fit(df2)"
   ]
  },
  {
   "cell_type": "code",
   "execution_count": 104,
   "metadata": {},
   "outputs": [
    {
     "data": {
      "text/plain": [
       "4    2149\n",
       "1    2075\n",
       "5    1965\n",
       "0    1186\n",
       "2     878\n",
       "3     697\n",
       "dtype: int64"
      ]
     },
     "execution_count": 104,
     "metadata": {},
     "output_type": "execute_result"
    }
   ],
   "source": [
    "\n",
    "pd.Series(km_6.labels_).value_counts()"
   ]
  },
  {
   "cell_type": "code",
   "execution_count": 105,
   "metadata": {},
   "outputs": [
    {
     "data": {
      "text/plain": [
       "<matplotlib.collections.PathCollection at 0x17750c10a08>"
      ]
     },
     "execution_count": 105,
     "metadata": {},
     "output_type": "execute_result"
    },
    {
     "data": {
      "image/png": "[encoded data removed]",
      "text/plain": [
       "<Figure size 504x504 with 1 Axes>"
      ]
     },
     "metadata": {
      "needs_background": "light"
     },
     "output_type": "display_data"
    }
   ],
   "source": [
    "color_map={0:'r',1:'b',2:'g',3:'y',4:'w',5:'k'}\n",
    "label_color=[color_map[l] for l in km_6.labels_]\n",
    "plt.figure(figsize=(7,7))\n",
    "plt.scatter(df2[:,0],df2[:,1],c=label_color)"
   ]
  },
  {
   "cell_type": "code",
   "execution_count": 106,
   "metadata": {},
   "outputs": [
    {
     "data": {
      "text/plain": [
       "0.40426485758410685"
      ]
     },
     "execution_count": 106,
     "metadata": {},
     "output_type": "execute_result"
    }
   ],
   "source": [
    "silhouette_score(df2,km_6.labels_)"
   ]
  },
  {
   "cell_type": "code",
   "execution_count": null,
   "metadata": {},
   "outputs": [],
   "source": []
  },
  {
   "cell_type": "code",
   "execution_count": null,
   "metadata": {},
   "outputs": [],
   "source": []
  },
  {
   "cell_type": "code",
   "execution_count": null,
   "metadata": {},
   "outputs": [],
   "source": []
  },
  {
   "cell_type": "code",
   "execution_count": null,
   "metadata": {},
   "outputs": [],
   "source": []
  }
 ],
 "metadata": {
  "kernelspec": {
   "display_name": "Python 3",
   "language": "python",
   "name": "python3"
  },
  "language_info": {
   "codemirror_mode": {
    "name": "ipython",
    "version": 3
   },
   "file_extension": ".py",
   "mimetype": "text/x-python",
   "name": "python",
   "nbconvert_exporter": "python",
   "pygments_lexer": "ipython3",
   "version": "3.7.6"
  }
 },
 "nbformat": 4,
 "nbformat_minor": 2
}
